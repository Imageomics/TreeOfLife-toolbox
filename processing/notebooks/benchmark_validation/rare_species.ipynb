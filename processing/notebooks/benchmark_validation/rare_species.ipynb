{
 "cells": [
  {
   "cell_type": "markdown",
   "id": "2ac11c29-a398-4bb0-8ca5-110cbfab702a",
   "metadata": {},
   "source": [
    "# Env"
   ]
  },
  {
   "cell_type": "code",
   "execution_count": null,
   "id": "6cdcd486",
   "metadata": {},
   "outputs": [],
   "source": [
    "# Set base path\n",
    "BASE_PATH = \"\""
   ]
  },
  {
   "cell_type": "code",
   "execution_count": 1,
   "id": "186cfc07-97a0-41fc-b10e-b3a1c040c1df",
   "metadata": {},
   "outputs": [],
   "source": [
    "import os\n",
    "import sys\n",
    "from pathlib import Path\n",
    "sys.path.append(os.path.abspath(\"..\"))\n",
    "\n",
    "\n",
    "from pyspark.sql import functions as F\n",
    "from pyspark.sql import types as T\n",
    "from pyspark.sql.functions import col, countDistinct, count, desc, input_file_name, regexp_replace, when, lit\n",
    "from pyspark.sql.types import StructType, StructField, IntegerType, StringType, BooleanType, DoubleType, ArrayType, LongType, BinaryType\n",
    "import pandas as pd\n",
    "\n",
    "from pyspark.sql import SparkSession\n",
    "# Check if there is an active Spark session\n",
    "spark= SparkSession.getActiveSession()"
   ]
  },
  {
   "cell_type": "markdown",
   "id": "97f1724d-1fd9-4242-b40c-efeb6050138f",
   "metadata": {},
   "source": [
    "# Objective\n",
    "\n",
    "[Rare Species](https://huggingface.co/datasets/imageomics/rare-species) is a benchmark from v1 that we will continue to use for v2. \n",
    "\n",
    "We want to exclude these rare species images from TOL-200M EOL download. This notebook document the mapping process from Rare Species to TOL-200M."
   ]
  },
  {
   "cell_type": "markdown",
   "id": "fc409dc4-81a4-49cf-b1e9-cf4f1802d996",
   "metadata": {},
   "source": [
    "# Data Description\n",
    "\n",
    "Data used in this analysis\n",
    "- EOL manifest\n",
    "- Rare Species benchmark\n",
    "- TOL-200M"
   ]
  },
  {
   "cell_type": "markdown",
   "id": "f1414b7a-6b06-4b48-aaf9-d4dc7e8ddb35",
   "metadata": {},
   "source": [
    "## EOL\n",
    "\n",
    "The Encyclopedia of Life (EOL) dataset is a comprehensive collection of biological data, aggregating species information, images, and metadata from various sources to support biodiversity research and education.\n",
    "\n",
    "The `media_manifest.csv` file within EOL serves as an index of the media assets.\n",
    "\n",
    "The media manifest used for the TOL-200M curation is combined at:"
   ]
  },
  {
   "cell_type": "code",
   "execution_count": null,
   "id": "5ad4a869-23f4-4ab8-8678-42bb86467a10",
   "metadata": {},
   "outputs": [
    {
     "name": "stderr",
     "output_type": "stream",
     "text": [
      "                                                                                \r"
     ]
    }
   ],
   "source": [
    "eol_media_manifest = spark.read.csv(\n",
    "    f\"{BASE_PATH}/gbif/processed/EoL/metadata/media_manifest.csv\",\n",
    "    header = True\n",
    ")"
   ]
  },
  {
   "cell_type": "markdown",
   "id": "0f42bc51-7a8e-401c-8481-30f90c7b562c",
   "metadata": {},
   "source": [
    "Check schema:"
   ]
  },
  {
   "cell_type": "code",
   "execution_count": 6,
   "id": "1c49db31-b845-4f83-9217-7194e616f06c",
   "metadata": {},
   "outputs": [
    {
     "name": "stdout",
     "output_type": "stream",
     "text": [
      "root\n",
      " |-- EOL content ID: string (nullable = true)\n",
      " |-- EOL page ID: string (nullable = true)\n",
      " |-- Medium Source URL: string (nullable = true)\n",
      " |-- EOL Full-Size Copy URL: string (nullable = true)\n",
      " |-- License Name: string (nullable = true)\n",
      " |-- Copyright Owner: string (nullable = true)\n",
      "\n"
     ]
    }
   ],
   "source": [
    "eol_media_manifest.printSchema()"
   ]
  },
  {
   "cell_type": "markdown",
   "id": "ad1d536c-a3f2-49d1-b415-a087e396454e",
   "metadata": {},
   "source": [
    "## Rare Species\n",
    "\n",
    "[Rare Species](https://huggingface.co/datasets/imageomics/rare-species) was generated alongside TreeOfLife-10M; data (images and text) were pulled from Encyclopedia of Life (EOL) to generate a dataset consisting of rare species for zero-shot-classification and more refined image classification tasks.\n",
    "- `rarespecies-catalog.csv`: contains the following metadata associated with each image in the dataset\n",
    "- `licenses.csv`: File with license, source, and copyright holder associated to each image listed in rarespecies-catalog.csv; rarespecies_id is the shared unique identifier to link the two files\n",
    "\n",
    "There are some overlapping information across these two metadata files. We'll be mostly using `licenses.csv` for our tasks."
   ]
  },
  {
   "cell_type": "code",
   "execution_count": 3,
   "id": "bb939c3f-b882-4340-add6-216187c6638e",
   "metadata": {},
   "outputs": [],
   "source": [
    "# Pull directly from HF\n",
    "\n",
    "metadata_rare_species = spark.createDataFrame(\n",
    "    pd.read_csv(\"https://huggingface.co/datasets/imageomics/rare-species/resolve/main/metadata.csv?download=true\")\n",
    ")\n",
    "\n",
    "liscenses_rare_species = spark.createDataFrame(\n",
    "    pd.read_csv(\"https://huggingface.co/datasets/imageomics/rare-species/resolve/main/metadata/licenses.csv?download=true\")\n",
    ")"
   ]
  },
  {
   "cell_type": "markdown",
   "id": "bd40c6d1-373c-47df-90a4-c57f2a0f0828",
   "metadata": {},
   "source": [
    "Check the schema:"
   ]
  },
  {
   "cell_type": "code",
   "execution_count": 3,
   "id": "57d2dd59-eff2-44b7-bcc0-d438711ee64d",
   "metadata": {},
   "outputs": [
    {
     "name": "stdout",
     "output_type": "stream",
     "text": [
      "root\n",
      " |-- rarespecies_id: string (nullable = true)\n",
      " |-- eol_content_id: long (nullable = true)\n",
      " |-- eol_page_id: long (nullable = true)\n",
      " |-- kingdom: string (nullable = true)\n",
      " |-- phylum: string (nullable = true)\n",
      " |-- class: string (nullable = true)\n",
      " |-- order: string (nullable = true)\n",
      " |-- family: string (nullable = true)\n",
      " |-- genus: string (nullable = true)\n",
      " |-- species: string (nullable = true)\n",
      " |-- sciName: string (nullable = true)\n",
      " |-- common: string (nullable = true)\n",
      " |-- file_name: string (nullable = true)\n",
      "\n"
     ]
    }
   ],
   "source": [
    "metadata_rare_species.printSchema()"
   ]
  },
  {
   "cell_type": "code",
   "execution_count": 4,
   "id": "0ededf75-091e-405b-9f0a-ac221d0994d3",
   "metadata": {},
   "outputs": [
    {
     "name": "stdout",
     "output_type": "stream",
     "text": [
      "root\n",
      " |-- rarespecies_id: string (nullable = true)\n",
      " |-- eol_content_id: long (nullable = true)\n",
      " |-- eol_page_id: long (nullable = true)\n",
      " |-- md5: string (nullable = true)\n",
      " |-- medium_source_url: string (nullable = true)\n",
      " |-- eol_full_size_copy_url: string (nullable = true)\n",
      " |-- license_name: string (nullable = true)\n",
      " |-- copyright_owner: string (nullable = true)\n",
      " |-- license_link: string (nullable = true)\n",
      " |-- title: string (nullable = true)\n",
      "\n"
     ]
    }
   ],
   "source": [
    "liscenses_rare_species.printSchema()"
   ]
  },
  {
   "cell_type": "markdown",
   "id": "8e87f5d0-919f-4aee-8e13-f76c49ba0b3a",
   "metadata": {},
   "source": [
    "## TOL-200M\n",
    "\n",
    "**Data location:** `{BASE_PATH}/TreeOfLife/data/source=eol`\n",
    "\n",
    "**Error download location:** `{BASE_PATH}/TreeOfLife/logs/errors/source=eol`"
   ]
  },
  {
   "cell_type": "code",
   "execution_count": null,
   "id": "a63bdc95-4f4f-4779-8260-174d9343122d",
   "metadata": {},
   "outputs": [],
   "source": [
    "eol_data_schema = StructType([\n",
    "    StructField(\"uuid\", StringType(), True),\n",
    "    StructField(\"source_id\", StringType(), True),\n",
    "    StructField(\"identifier\", StringType(), True),  # Changed from DoubleType to StringType\n",
    "    StructField(\"is_license_full\", BooleanType(), True),\n",
    "    StructField(\"license\", StringType(), True),\n",
    "    StructField(\"source\", StringType(), True),\n",
    "    StructField(\"title\", StringType(), True),  # Changed from DoubleType to StringType\n",
    "    StructField(\"hashsum_original\", StringType(), True),\n",
    "    StructField(\"hashsum_resized\", StringType(), True),\n",
    "    StructField(\"original_size\", ArrayType(LongType(), True), True),\n",
    "    StructField(\"resized_size\", ArrayType(LongType(), True), True),\n",
    "    StructField(\"image\", BinaryType(), True),\n",
    "    StructField(\"server\", StringType(), True)\n",
    "])\n",
    "\n",
    "eol_error_schema = StructType([\n",
    "    StructField(\"uuid\", StringType(), True),\n",
    "    StructField(\"identifier\", StringType(), True),\n",
    "    StructField(\"retry_count\", LongType(), True),\n",
    "    StructField(\"error_code\", LongType(), True),\n",
    "    StructField(\"error_msg\", StringType(), True)\n",
    "])\n",
    "\n",
    "data_eol = spark.read.schema(eol_data_schema).parquet(f\"{BASE_PATH}/TreeOfLife/data/source=eol\")\n",
    "error_eol = spark.read.schema(eol_error_schema).parquet(f\"{BASE_PATH}/TreeOfLife/logs/errors/source=eol\")"
   ]
  },
  {
   "cell_type": "code",
   "execution_count": 7,
   "id": "5049f754-426a-4628-a530-79b362f44e67",
   "metadata": {},
   "outputs": [
    {
     "name": "stdout",
     "output_type": "stream",
     "text": [
      "root\n",
      " |-- uuid: string (nullable = true)\n",
      " |-- source_id: string (nullable = true)\n",
      " |-- identifier: string (nullable = true)\n",
      " |-- is_license_full: boolean (nullable = true)\n",
      " |-- license: string (nullable = true)\n",
      " |-- source: string (nullable = true)\n",
      " |-- title: string (nullable = true)\n",
      " |-- hashsum_original: string (nullable = true)\n",
      " |-- hashsum_resized: string (nullable = true)\n",
      " |-- original_size: array (nullable = true)\n",
      " |    |-- element: long (containsNull = true)\n",
      " |-- resized_size: array (nullable = true)\n",
      " |    |-- element: long (containsNull = true)\n",
      " |-- image: binary (nullable = true)\n",
      " |-- server: string (nullable = true)\n",
      "\n"
     ]
    }
   ],
   "source": [
    "data_eol.printSchema()"
   ]
  },
  {
   "cell_type": "markdown",
   "id": "5eab10ab-5287-41cd-96e6-a02c204c2950",
   "metadata": {},
   "source": [
    "- `source_id` is curated using **EOL content ID**\n",
    "- `identifier` is curated from **EOL Full-Size Copy URL** and it's used for TOL-200M downloads"
   ]
  },
  {
   "cell_type": "code",
   "execution_count": 8,
   "id": "21064293-7cff-49d1-aea2-0253987f2d1b",
   "metadata": {},
   "outputs": [
    {
     "name": "stdout",
     "output_type": "stream",
     "text": [
      "root\n",
      " |-- uuid: string (nullable = true)\n",
      " |-- identifier: string (nullable = true)\n",
      " |-- retry_count: long (nullable = true)\n",
      " |-- error_code: long (nullable = true)\n",
      " |-- error_msg: string (nullable = true)\n",
      " |-- server: string (nullable = true)\n",
      "\n"
     ]
    }
   ],
   "source": [
    "error_eol.printSchema()"
   ]
  },
  {
   "cell_type": "markdown",
   "id": "bbe755de-4cc1-4516-9357-7b401bc593c9",
   "metadata": {},
   "source": [
    "# Mapping\n",
    "\n",
    "We attempt to use **EOL Full-Size Copy URL** and **MD5 Hashsum** to create a mapping between Rare Species images and the **successfully downloaded** TOL-200M images."
   ]
  },
  {
   "cell_type": "markdown",
   "id": "d4cf643a-b421-4de9-8e1d-8c52ac1969f4",
   "metadata": {},
   "source": [
    "Check attribute uniqueness"
   ]
  },
  {
   "cell_type": "code",
   "execution_count": 9,
   "id": "56c20991-7869-4237-a79a-2ba0866ecbc7",
   "metadata": {},
   "outputs": [
    {
     "name": "stderr",
     "output_type": "stream",
     "text": [
      "                                                                                \r"
     ]
    },
    {
     "name": "stdout",
     "output_type": "stream",
     "text": [
      "Rare Species total images: 11983\n",
      "Rare Species unique content URLs: 11983\n",
      "Rare Species unique MD5s: 11983\n"
     ]
    }
   ],
   "source": [
    "n_images = liscenses_rare_species.count()\n",
    "n_unique_urls = liscenses_rare_species.select(\"eol_full_size_copy_url\").distinct().count()\n",
    "n_unique_md5s = liscenses_rare_species.select(\"md5\").distinct().count()\n",
    "\n",
    "print(f\"Rare Species total images: {n_images}\")\n",
    "print(f\"Rare Species unique content URLs: {n_unique_urls}\")\n",
    "print(f\"Rare Species unique MD5s: {n_unique_md5s}\")"
   ]
  },
  {
   "cell_type": "code",
   "execution_count": 10,
   "id": "ab6b9df4-e1f8-4047-86a5-3af21a8673f9",
   "metadata": {},
   "outputs": [
    {
     "name": "stderr",
     "output_type": "stream",
     "text": [
      "[Stage 25:==================================================(35412 + 0) / 35412]\r"
     ]
    },
    {
     "name": "stdout",
     "output_type": "stream",
     "text": [
      "TOL EOL total images: 6396571\n",
      "TOL EOL unique content URLs: 6396571\n",
      "TOL EOL unique MD5s: 6396571\n"
     ]
    },
    {
     "name": "stderr",
     "output_type": "stream",
     "text": [
      "                                                                                \r"
     ]
    }
   ],
   "source": [
    "n_images = data_eol.count()\n",
    "n_unique_urls = data_eol.select(\"identifier\").distinct().count()\n",
    "n_unique_md5s = data_eol.select(\"hashsum_original\").distinct().count()\n",
    "\n",
    "print(f\"TOL EOL total images: {n_images}\")\n",
    "print(f\"TOL EOL unique content URLs: {n_unique_urls}\")\n",
    "print(f\"TOL EOL unique MD5s: {n_unique_md5s}\")"
   ]
  },
  {
   "cell_type": "code",
   "execution_count": 5,
   "id": "b1f5a98e-928a-44d0-8722-1e65e2265b30",
   "metadata": {},
   "outputs": [],
   "source": [
    "df = liscenses_rare_species\n",
    "\n",
    "df = (\n",
    "    df.join(\n",
    "        data_eol.select(\"hashsum_original\"),\n",
    "        (data_eol.hashsum_original == df.md5),\n",
    "        how=\"left\"\n",
    "    ).withColumn(\n",
    "        \"md5_matched\", when(col(\"hashsum_original\").isNotNull(), lit(True)).otherwise(lit(False))\n",
    "    ).drop(\"hashsum_original\")\n",
    ")\n",
    "\n",
    "df = (\n",
    "    df.join(\n",
    "        data_eol.select(\"identifier\"),\n",
    "        (data_eol.identifier == df.eol_full_size_copy_url),\n",
    "        how=\"left\"\n",
    "    ).withColumn(\n",
    "        \"url_matched\", when(col(\"identifier\").isNotNull(), lit(True)).otherwise(lit(False))\n",
    "    ).drop(\"identifier\")\n",
    ")"
   ]
  },
  {
   "cell_type": "code",
   "execution_count": 12,
   "id": "ce35cdab-ec3e-4000-8451-f4e8a4dfdad3",
   "metadata": {},
   "outputs": [
    {
     "name": "stderr",
     "output_type": "stream",
     "text": [
      "[Stage 41:=================================>                   (126 + 74) / 200]\r"
     ]
    },
    {
     "name": "stdout",
     "output_type": "stream",
     "text": [
      "+-----------+-----------+-----+\n",
      "|md5_matched|url_matched|count|\n",
      "+-----------+-----------+-----+\n",
      "|true       |true       |11324|\n",
      "|false      |false      |487  |\n",
      "|true       |false      |172  |\n",
      "+-----------+-----------+-----+\n",
      "\n"
     ]
    },
    {
     "name": "stderr",
     "output_type": "stream",
     "text": [
      "                                                                                \r"
     ]
    }
   ],
   "source": [
    "df.groupBy(\"md5_matched\", \"url_matched\").count().show(truncate=False)"
   ]
  },
  {
   "cell_type": "markdown",
   "id": "2a5ccd43-aa19-4b76-a31f-4692f90c4bc2",
   "metadata": {},
   "source": [
    "**There 487 images from Rare Species benchmark dataset that can't be matched to the TOL-200M successful image downloads using MD5.** \n",
    "\n",
    "**These images can't be matched using content URL used for download either.**\n",
    "\n",
    "\n",
    "\n",
    "The error log tables keep track of the information of the unsuccessful download attempt for the EOL images. Let's check the unsuccessful download logs to see if we could find these unmatched images. Since there are no MD5 available, we can only use the content URL as the matching key."
   ]
  },
  {
   "cell_type": "code",
   "execution_count": 13,
   "id": "b80e820f-1d2c-490f-81b7-4a561237dc5b",
   "metadata": {},
   "outputs": [],
   "source": [
    "unmatched_by_md5 = df.filter(~col(\"md5_matched\"))"
   ]
  },
  {
   "cell_type": "code",
   "execution_count": 37,
   "id": "f64a5587-e963-48a1-949d-237e3d90b6d3",
   "metadata": {},
   "outputs": [
    {
     "name": "stdout",
     "output_type": "stream",
     "text": [
      "root\n",
      " |-- rarespecies_id: string (nullable = true)\n",
      " |-- eol_content_id: long (nullable = true)\n",
      " |-- eol_page_id: long (nullable = true)\n",
      " |-- md5: string (nullable = true)\n",
      " |-- medium_source_url: string (nullable = true)\n",
      " |-- eol_full_size_copy_url: string (nullable = true)\n",
      " |-- license_name: string (nullable = true)\n",
      " |-- copyright_owner: string (nullable = true)\n",
      " |-- license_link: string (nullable = true)\n",
      " |-- title: string (nullable = true)\n",
      " |-- md5_matched: boolean (nullable = false)\n",
      " |-- url_matched: boolean (nullable = false)\n",
      "\n"
     ]
    }
   ],
   "source": [
    "unmatched_by_md5.printSchema()"
   ]
  },
  {
   "cell_type": "code",
   "execution_count": 14,
   "id": "165f1523-e069-4ce0-bfb2-35c81d3d0b2b",
   "metadata": {},
   "outputs": [
    {
     "data": {
      "text/plain": [
       "DataFrame[rarespecies_id: string, eol_content_id: bigint, eol_page_id: bigint, md5: string, medium_source_url: string, eol_full_size_copy_url: string, license_name: string, copyright_owner: string, license_link: string, title: string, md5_matched: boolean, url_matched: boolean, error_url_matched: boolean]"
      ]
     },
     "execution_count": 14,
     "metadata": {},
     "output_type": "execute_result"
    }
   ],
   "source": [
    "unmatched_by_md5 = (\n",
    "    unmatched_by_md5.join(\n",
    "        error_eol.select(\"identifier\"),\n",
    "        (error_eol.identifier == unmatched_by_md5.eol_full_size_copy_url),\n",
    "        how=\"left\"\n",
    "    ).withColumn(\n",
    "        \"error_url_matched\", when(col(\"identifier\").isNotNull(), lit(True)).otherwise(lit(False))\n",
    "    ).drop(\"identifier\")\n",
    ")\n",
    "\n",
    "unmatched_by_md5.cache()"
   ]
  },
  {
   "cell_type": "code",
   "execution_count": 15,
   "id": "22ec2925-6c6c-4eee-bb56-32c1b327abb2",
   "metadata": {},
   "outputs": [
    {
     "name": "stderr",
     "output_type": "stream",
     "text": [
      "                                                                                2]\r"
     ]
    },
    {
     "data": {
      "text/plain": [
       "114"
      ]
     },
     "execution_count": 15,
     "metadata": {},
     "output_type": "execute_result"
    }
   ],
   "source": [
    "unmatched_by_md5.filter(col(\"error_url_matched\")).count()"
   ]
  },
  {
   "cell_type": "markdown",
   "id": "1ad096b6-80d3-4f84-8ffd-f0e4efa57a33",
   "metadata": {},
   "source": [
    "**There are 114 MD5-unmatched Rare Species images founded in the error logs.** The downloader failed to download these images during the TOL-200M curation process. "
   ]
  },
  {
   "cell_type": "code",
   "execution_count": 16,
   "id": "6d246e95-a171-4cae-a48a-f6bf30888734",
   "metadata": {},
   "outputs": [
    {
     "data": {
      "text/plain": [
       "373"
      ]
     },
     "execution_count": 16,
     "metadata": {},
     "output_type": "execute_result"
    }
   ],
   "source": [
    "unmatched_by_all = unmatched_by_md5.filter(~col(\"error_url_matched\"))\n",
    "unmatched_by_all.count()"
   ]
  },
  {
   "cell_type": "markdown",
   "id": "83d9039c-a7a5-4957-b472-6ff3b4e20dc1",
   "metadata": {},
   "source": [
    "The remaining 373 Rare Species images cannot be matched using MD5 or content URL and are not listed in the error log files.\n",
    "\n",
    "**Therefore, based on MD5 hashes and EOL content URLs, there is NO evidence that these images exist in the TOL-200M dataset or were included in the TOL-200M download process.**"
   ]
  },
  {
   "cell_type": "markdown",
   "id": "5bc67f6c-697a-49e5-a704-cbb7b3f50cf8",
   "metadata": {},
   "source": [
    "# Review Unmatched Images"
   ]
  },
  {
   "cell_type": "markdown",
   "id": "9494778d-287f-4300-aaac-65803bd819f0",
   "metadata": {},
   "source": [
    "We'd like to check if these unmatched Rare Species images are included in the `media_manifest.csv`. And also investigate whether they could be successfully downloaded. "
   ]
  },
  {
   "cell_type": "markdown",
   "id": "34a20b63-3b36-4715-adcf-17ae3a1f78c3",
   "metadata": {},
   "source": [
    "## URL Validation"
   ]
  },
  {
   "cell_type": "code",
   "execution_count": 60,
   "id": "00b551a9-df18-4121-a1d8-1af4332baba8",
   "metadata": {},
   "outputs": [
    {
     "name": "stderr",
     "output_type": "stream",
     "text": [
      "[Stage 357:===========================================>        (162 + 30) / 192]\r"
     ]
    },
    {
     "name": "stdout",
     "output_type": "stream",
     "text": [
      "+---------------------------------------------------------------------------------------------+\n",
      "|eol_full_size_copy_url                                                                       |\n",
      "+---------------------------------------------------------------------------------------------+\n",
      "|https://content.eol.org/data/media/3d/1f/f2/18.https___www_inaturalist_org_photos_4536661.jpg|\n",
      "|https://content.eol.org/data/media/5f/a8/8b/509.22006e92f4d89947f2cb9fdadf8a3bfc.jpg         |\n",
      "|https://content.eol.org/data/media/00/0f/11/8.20728551072.jpg                                |\n",
      "|https://content.eol.org/data/media/31/e7/e6/18.https___www_inaturalist_org_photos_2687011.jpg|\n",
      "|https://content.eol.org/data/media/35/e3/3c/18.https___www_inaturalist_org_photos_3294208.jpg|\n",
      "|https://content.eol.org/data/media/3d/18/5f/18.https___www_inaturalist_org_photos_4531310.jpg|\n",
      "|https://content.eol.org/data/media/00/1b/75/8.6022153831.jpg                                 |\n",
      "|https://content.eol.org/data/media/35/cb/5f/18.https___www_inaturalist_org_photos_3278579.jpg|\n",
      "|https://content.eol.org/data/media/59/73/45/509.22ab74416a5d1b788cbed0e255a5d6dc.jpg         |\n",
      "|https://content.eol.org/data/media/46/98/68/18.https___www_inaturalist_org_photos_6141525.jpg|\n",
      "+---------------------------------------------------------------------------------------------+\n",
      "only showing top 10 rows\n",
      "\n"
     ]
    },
    {
     "name": "stderr",
     "output_type": "stream",
     "text": [
      "                                                                                \r"
     ]
    }
   ],
   "source": [
    "unmatched_by_all.select(\"eol_full_size_copy_url\").show(10, truncate=False)"
   ]
  },
  {
   "cell_type": "markdown",
   "id": "42726762-59cc-44ad-a394-652428e6e678",
   "metadata": {},
   "source": [
    "We manually checked the URLs, and the majority of them appear to be valid."
   ]
  },
  {
   "cell_type": "markdown",
   "id": "9dadd5a0-b8ba-4964-b53d-6fa1ded6885b",
   "metadata": {},
   "source": [
    "## Presence in EOL Media Manifest"
   ]
  },
  {
   "cell_type": "code",
   "execution_count": 41,
   "id": "591f784c-bab7-431d-87e3-88023ac4d561",
   "metadata": {},
   "outputs": [
    {
     "name": "stdout",
     "output_type": "stream",
     "text": [
      "root\n",
      " |-- EOL content ID: string (nullable = true)\n",
      " |-- EOL page ID: string (nullable = true)\n",
      " |-- Medium Source URL: string (nullable = true)\n",
      " |-- EOL Full-Size Copy URL: string (nullable = true)\n",
      " |-- License Name: string (nullable = true)\n",
      " |-- Copyright Owner: string (nullable = true)\n",
      "\n"
     ]
    }
   ],
   "source": [
    "eol_media_manifest.printSchema()"
   ]
  },
  {
   "cell_type": "code",
   "execution_count": 43,
   "id": "6db9d819-efd5-4aff-8e6d-b5cf3bc624f6",
   "metadata": {},
   "outputs": [
    {
     "name": "stdout",
     "output_type": "stream",
     "text": [
      "root\n",
      " |-- rarespecies_id: string (nullable = true)\n",
      " |-- eol_content_id: long (nullable = true)\n",
      " |-- eol_page_id: long (nullable = true)\n",
      " |-- md5: string (nullable = true)\n",
      " |-- medium_source_url: string (nullable = true)\n",
      " |-- eol_full_size_copy_url: string (nullable = true)\n",
      " |-- license_name: string (nullable = true)\n",
      " |-- copyright_owner: string (nullable = true)\n",
      " |-- license_link: string (nullable = true)\n",
      " |-- title: string (nullable = true)\n",
      " |-- md5_matched: boolean (nullable = false)\n",
      " |-- url_matched: boolean (nullable = false)\n",
      " |-- error_url_matched: boolean (nullable = false)\n",
      "\n"
     ]
    }
   ],
   "source": [
    "unmatched_by_all.printSchema()"
   ]
  },
  {
   "cell_type": "code",
   "execution_count": 17,
   "id": "4ee978e6-3754-4029-90c5-2b710f10693d",
   "metadata": {},
   "outputs": [],
   "source": [
    "eol_media_manifest = eol_media_manifest.withColumnsRenamed(\n",
    "    {\n",
    "        \"EOL Full-Size Copy URL\": \"manifest_eol_full_size_copy_url\",\n",
    "        \"Medium Source URL\": \"manifest_medium_source_url\",\n",
    "        \"EOL content ID\": \"manifest_eol_content_id\",\n",
    "        \"EOL page ID\": \"manifest_eol_page_id\"\n",
    "    }\n",
    ")\n",
    "unmatched_by_all = (\n",
    "    unmatched_by_all\n",
    "    # Check matching by EOL full size copy URL\n",
    "    .join(\n",
    "        eol_media_manifest.select(\"manifest_eol_full_size_copy_url\"),\n",
    "        eol_media_manifest.manifest_eol_full_size_copy_url == unmatched_by_all.eol_full_size_copy_url,\n",
    "        how = \"left\"\n",
    "    )\n",
    "    .withColumn(\n",
    "        \"manifest_content_url_matched\",\n",
    "        when(col(\"manifest_eol_full_size_copy_url\").isNotNull(), lit(True)).otherwise(lit(False))\n",
    "    )\n",
    "    .drop(\"manifest_eol_full_size_copy_url\")\n",
    "    \n",
    "    # Check matching by Medium Source URL\n",
    "    .join(\n",
    "        eol_media_manifest.select(\"manifest_medium_source_url\"),\n",
    "        eol_media_manifest.manifest_medium_source_url == unmatched_by_all.medium_source_url,\n",
    "        how = \"left\"\n",
    "    )\n",
    "    .withColumn(\n",
    "        \"manifest_medium_source_url_matched\",\n",
    "        when(col(\"manifest_medium_source_url\").isNotNull(), lit(True)).otherwise(lit(False))\n",
    "    )\n",
    "    .drop(\"manifest_medium_source_url\")\n",
    "\n",
    "    # Check matching by eol_content_id & eol_page_id\n",
    "    .join(\n",
    "        eol_media_manifest.select(\"manifest_eol_content_id\", \"manifest_eol_page_id\"),\n",
    "        (eol_media_manifest.manifest_eol_content_id == unmatched_by_all.eol_content_id) &\n",
    "        (eol_media_manifest.manifest_eol_page_id == unmatched_by_all.eol_page_id),\n",
    "        how = \"left\"\n",
    "    )\n",
    "    .withColumn(\n",
    "        \"manifest_content_id_matched\",\n",
    "        when(\n",
    "            (col(\"manifest_eol_content_id\").isNotNull()) & (col(\"manifest_eol_page_id\").isNotNull()),\n",
    "             lit(True)\n",
    "        ).otherwise(lit(False))\n",
    "    )\n",
    "    .drop(\"manifest_eol_content_id\", \"manifest_eol_page_id\")\n",
    ")"
   ]
  },
  {
   "cell_type": "code",
   "execution_count": 18,
   "id": "74125d67-e6ca-4b6c-aeb5-a1d09cb6ada4",
   "metadata": {},
   "outputs": [
    {
     "name": "stderr",
     "output_type": "stream",
     "text": [
      "[Stage 84:============>(328 + 12) / 340][Stage 90:===========> (178 + 22) / 200]]\r"
     ]
    },
    {
     "name": "stdout",
     "output_type": "stream",
     "text": [
      "+----------------------------+----------------------------------+---------------------------+-----+\n",
      "|manifest_content_url_matched|manifest_medium_source_url_matched|manifest_content_id_matched|count|\n",
      "+----------------------------+----------------------------------+---------------------------+-----+\n",
      "|false                       |false                             |false                      |314  |\n",
      "|true                        |true                              |false                      |2    |\n",
      "|true                        |true                              |true                       |57   |\n",
      "+----------------------------+----------------------------------+---------------------------+-----+\n",
      "\n"
     ]
    },
    {
     "name": "stderr",
     "output_type": "stream",
     "text": [
      "                                                                                \r"
     ]
    }
   ],
   "source": [
    "(\n",
    "    unmatched_by_all\n",
    "    .groupBy(\n",
    "        \"manifest_content_url_matched\",\n",
    "        \"manifest_medium_source_url_matched\",\n",
    "        \"manifest_content_id_matched\"\n",
    "    )\n",
    "    .count()\n",
    ").show(truncate=False)"
   ]
  },
  {
   "cell_type": "markdown",
   "id": "00bf6e31-61dd-4811-a478-73765572a03f",
   "metadata": {},
   "source": [
    "Among all of the 373 unmatched images\n",
    "- 314 can't be found in the EOL manifest.\n",
    "- 59 could be matched using content URL or medium source URL"
   ]
  },
  {
   "cell_type": "markdown",
   "id": "01974d27-4162-4ae2-a854-a37163be99d2",
   "metadata": {},
   "source": [
    "# Create Lookup Table"
   ]
  },
  {
   "cell_type": "code",
   "execution_count": 21,
   "id": "f34198c9-26fa-4b81-bf77-dd04db8c3253",
   "metadata": {},
   "outputs": [],
   "source": [
    "data_eol_rare_species = (\n",
    "    data_eol\n",
    "    .withColumn(\n",
    "        \"path\", \n",
    "        regexp_replace(input_file_name(), \"^file://\", \"\")\n",
    "    )\n",
    "    .join(\n",
    "        liscenses_rare_species.select(\"md5\").withColumnRenamed(\"md5\", \"hashsum_original\"),\n",
    "        on = \"hashsum_original\",\n",
    "        how = \"inner\"\n",
    "    )\n",
    ")"
   ]
  },
  {
   "cell_type": "code",
   "execution_count": 12,
   "id": "718346c2-793c-49cf-be85-d385eb6973cf",
   "metadata": {},
   "outputs": [
    {
     "name": "stderr",
     "output_type": "stream",
     "text": [
      "                                                                                \r"
     ]
    },
    {
     "data": {
      "text/plain": [
       "11496"
      ]
     },
     "execution_count": 12,
     "metadata": {},
     "output_type": "execute_result"
    }
   ],
   "source": [
    "data_eol_rare_species.count()"
   ]
  },
  {
   "cell_type": "code",
   "execution_count": 22,
   "id": "bcdb17d3-d774-430d-8a5d-1dfccc4fe49d",
   "metadata": {},
   "outputs": [],
   "source": [
    "lookup_tbl_rare_species = (\n",
    "    data_eol_rare_species\n",
    "    .select(\"uuid\", \"path\")\n",
    ")"
   ]
  },
  {
   "cell_type": "code",
   "execution_count": 27,
   "id": "3ebadb3d-6078-4809-9b17-436ea6b44759",
   "metadata": {},
   "outputs": [
    {
     "name": "stdout",
     "output_type": "stream",
     "text": [
      "root\n",
      " |-- uuid: string (nullable = true)\n",
      " |-- path: string (nullable = false)\n",
      "\n"
     ]
    }
   ],
   "source": [
    "lookup_tbl_rare_species.printSchema()"
   ]
  },
  {
   "cell_type": "code",
   "execution_count": null,
   "id": "cd45f874-1329-4bb3-b552-49c4be101770",
   "metadata": {},
   "outputs": [],
   "source": [
    "lookup_tbl_rare_species.show(5, truncate=False)"
   ]
  },
  {
   "cell_type": "code",
   "execution_count": 24,
   "id": "b2caa5e9-1496-463e-857b-1093bafd67ff",
   "metadata": {},
   "outputs": [],
   "source": [
    "lookup_tbl_rare_species = lookup_tbl_rare_species.coalesce(1)"
   ]
  },
  {
   "cell_type": "code",
   "execution_count": null,
   "id": "de2384c1-23bb-48eb-8a63-3f7e2259c261",
   "metadata": {},
   "outputs": [
    {
     "name": "stderr",
     "output_type": "stream",
     "text": [
      "                                                                                \r"
     ]
    }
   ],
   "source": [
    "lookup_tbl_rare_species.write.mode(\"overwrite\").parquet(f\"{BASE_PATH}/TreeOfLife/lookup_tables/2024-05-01/eol/lookup_rare_species\")"
   ]
  },
  {
   "cell_type": "code",
   "execution_count": 28,
   "id": "1fd2968a-ceba-4779-a34e-2ee16255c3b2",
   "metadata": {},
   "outputs": [
    {
     "name": "stderr",
     "output_type": "stream",
     "text": [
      "                                                                                \r"
     ]
    },
    {
     "data": {
      "text/plain": [
       "6396571"
      ]
     },
     "execution_count": 28,
     "metadata": {},
     "output_type": "execute_result"
    }
   ],
   "source": [
    "data_eol.count()"
   ]
  }
 ],
 "metadata": {
  "jupytext": {
   "formats": "ipynb,py:percent"
  },
  "kernelspec": {
   "display_name": "PySpark",
   "language": "python",
   "name": "pyspark"
  },
  "language_info": {
   "codemirror_mode": {
    "name": "ipython",
    "version": 3
   },
   "file_extension": ".py",
   "mimetype": "text/x-python",
   "name": "python",
   "nbconvert_exporter": "python",
   "pygments_lexer": "ipython3",
   "version": "3.12.4"
  }
 },
 "nbformat": 4,
 "nbformat_minor": 5
}
