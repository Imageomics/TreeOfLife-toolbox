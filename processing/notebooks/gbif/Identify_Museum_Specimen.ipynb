{
 "cells": [
  {
   "cell_type": "markdown",
   "id": "de864946-1bb2-4843-8d04-a3e61f0438aa",
   "metadata": {},
   "source": [
    "# Env"
   ]
  },
  {
   "cell_type": "code",
   "execution_count": null,
   "id": "5465db86",
   "metadata": {},
   "outputs": [],
   "source": [
    "# Set base path\n",
    "BASE_PATH = \"\""
   ]
  },
  {
   "cell_type": "code",
   "execution_count": 1,
   "id": "0237e9ff-5b30-45fd-8dc8-b69b577d5784",
   "metadata": {},
   "outputs": [],
   "source": [
    "import logging\n",
    "from pyspark.sql import SparkSession\n",
    "from pyspark.sql.functions import broadcast, col, countDistinct, row_number, floor\n",
    "from pyspark.sql.window import Window\n",
    "import os\n",
    "\n",
    "# Check if there is an active Spark session\n",
    "spark= SparkSession.getActiveSession()"
   ]
  },
  {
   "cell_type": "code",
   "execution_count": 1,
   "id": "5b7e50b5-a79c-4d48-80e8-aa67a38756f4",
   "metadata": {},
   "outputs": [],
   "source": [
    "# Initialize large spark session\n",
    "#\n",
    "# spark.stop()\n",
    "# spark = (\n",
    "#         SparkSession.builder\n",
    "#         .appName(\"GBIF EDA\")\n",
    "#         .config(\"spark.executor.instances\", \"80\")\n",
    "#         .config(\"spark.executor.memory\", \"75G\")\n",
    "#         .config(\"spark.executor.cores\", \"12\")\n",
    "#         .config(\"spark.driver.memory\", \"64G\")\n",
    "#         # Additional Tunning\n",
    "#         .config(\"spark.sql.shuffle.partitions\", \"1000\")\n",
    "#         #.config(\"spark.sql.files.maxPartitionBytes\", \"256MB\")\n",
    "#         .config(\"spark.sql.parquet.enableVectorizedReader\", \"false\") \n",
    "#         .config(\"spark.sql.parquet.compression.codec\", \"snappy\")\n",
    "#         .config(\"spark.serializer\", \"org.apache.spark.serializer.KryoSerializer\")\n",
    "#         .getOrCreate()\n",
    "#     )"
   ]
  },
  {
   "cell_type": "code",
   "execution_count": 3,
   "id": "44a3b11e-f7dd-4b0d-8342-357dbad6432d",
   "metadata": {},
   "outputs": [],
   "source": [
    "import os\n",
    "import sys\n",
    "sys.path.append(os.path.abspath(\"..\"))\n",
    "\n",
    "from pyspark.sql import functions as F\n",
    "from pyspark.sql import types as T\n",
    "from pyspark.sql.functions import when, col, countDistinct, count, desc, broadcast, lower\n",
    "\n",
    "from helpers.variables import COLS_TAXONOMIC\n",
    "from helpers.data_analysis import init_spark, create_freq, view_freq, check_sparsity\n",
    "from helpers.gbif import fetch_gbif_chunk, fetch_gbif_iter, retry_failed_chunks, insert_records_to_mongo, fetch_publisher_key\n",
    "#from helpers.text_search import flatten_dict, full_text_search_rdd, flatten_list_to_string, extract_fields"
   ]
  },
  {
   "cell_type": "markdown",
   "id": "368e3681-3401-4b46-83f1-5d27316f47e7",
   "metadata": {},
   "source": [
    "# Identify Museum Specimen Images"
   ]
  },
  {
   "cell_type": "markdown",
   "id": "212a7f11-39f5-46c4-b0d2-2f935443892b",
   "metadata": {},
   "source": [
    "We use `basisOfRecord` to identify museum specimen images:\n",
    "\n",
    "identify occurrences in the following categories of museum specimen images:\n",
    "- Preserved specimens\n",
    "- Fossil specimens\n",
    "- Material samples\n",
    "- Living specimens\n",
    "- Material citations"
   ]
  },
  {
   "cell_type": "markdown",
   "id": "0fe9a98a-0a67-4e78-bbca-9d09a808ea49",
   "metadata": {},
   "source": [
    "Create a lookup table that contains the file paths. Partition this lookup table into groups such that each group's unique file count is not greater than 100. "
   ]
  },
  {
   "cell_type": "code",
   "execution_count": null,
   "id": "743263af-e326-4118-a4b0-a4f7f3537a20",
   "metadata": {},
   "outputs": [],
   "source": [
    "def create_lookup_tbl(spark):\n",
    "\n",
    "    COLS_TAXONOMIC = [\n",
    "        \"kingdom\", \"phylum\", \"class\", \"order\", \"family\", \"genus\", \"species\"\n",
    "    ]\n",
    "    N_MAX_FILES = 100  # Maximum files per group\n",
    "\n",
    "    spark_df = spark.read.parquet(f\"{BASE_PATH}/gbif/attributes/cols_of_interest\")\n",
    "    lookup_tbl = spark.read.parquet(f\"{BASE_PATH}/gbif/lookup_tables/2024-05-01/lookup_tables\")\n",
    "\n",
    "    # Identify source IDs with multiple UUIDs\n",
    "    source_id_with_multiple_uuids = (\n",
    "        spark_df.groupBy(\"source_id\")\n",
    "        .agg(countDistinct(\"uuid\").alias(\"distinct_uuid_count\"))\n",
    "        .filter(col(\"distinct_uuid_count\") > 1)\n",
    "    )\n",
    "\n",
    "    # Filter museum specimen records and join with source IDs and lookup table\n",
    "    lookup_tbl_museum_specimen = (\n",
    "        spark_df\n",
    "        .filter(\n",
    "            col(\"basisOfRecord\").isin(\n",
    "                [\n",
    "                    \"PRESERVED_SPECIMEN\", \"MATERIAL_SAMPLE\", \"FOSSIL_SPECIMEN\",\n",
    "                    \"LIVING_SPECIMEN\", \"MATERIAL_CITATION\"\n",
    "                ]\n",
    "            )\n",
    "        )\n",
    "        .join(source_id_with_multiple_uuids, on=\"source_id\", how=\"inner\")\n",
    "        .select([\"uuid\", \"source_id\"] + COLS_TAXONOMIC)\n",
    "        .join(lookup_tbl, on=\"uuid\", how=\"inner\")\n",
    "    )\n",
    "\n",
    "    # Group paths into batches of N_MAX_FILES\n",
    "    unique_paths = lookup_tbl_museum_specimen.select(\"path\").distinct()\n",
    "    window_spec = Window.orderBy(\"path\")\n",
    "\n",
    "    unique_paths_with_row = unique_paths.withColumn(\n",
    "        \"row_number\", row_number().over(window_spec)\n",
    "    )\n",
    "\n",
    "    grouped_paths = unique_paths_with_row.withColumn(\n",
    "        \"group_id\", floor((col(\"row_number\") - 1) / N_MAX_FILES)\n",
    "    ).drop(\"row_number\")\n",
    "\n",
    "    # Join grouped paths with the main table\n",
    "    result_lookup_tbl = lookup_tbl_museum_specimen.join(\n",
    "        grouped_paths, on=\"path\", how=\"left\"\n",
    "    )\n",
    "\n",
    "    # Write the result to a partitioned Parquet file\n",
    "    result_lookup_tbl.repartition(1, \"group_id\").write.partitionBy(\"group_id\").mode(\n",
    "        \"overwrite\"\n",
    "    ).parquet(\n",
    "        f\"{BASE_PATH}/gbif/lookup_tables/2024-05-01/lookup_multi_images_museum_specimen\"\n",
    "    )"
   ]
  },
  {
   "cell_type": "code",
   "execution_count": null,
   "id": "44c3769d-c592-4172-8d5a-b6e960bbc114",
   "metadata": {},
   "outputs": [],
   "source": [
    "def process_group(spark, base_input_path, base_output_path, group_id):\n",
    "\n",
    "    # Construct paths for the current group\n",
    "    group_input_path = f\"{base_input_path}/group_id={group_id}\"\n",
    "    group_output_path = f\"{base_output_path}/group_id={group_id}\"\n",
    "\n",
    "\n",
    "    filtered_df = spark.read.parquet(group_input_path)\n",
    "    unique_paths = [row['path'] for row in filtered_df.select(\"path\").distinct().collect()]\n",
    "    \n",
    "    # Read the combined DataFrame from unique paths\n",
    "    combined_df = spark.read.parquet(*unique_paths).select([\"uuid\", \"original_size\", \"resized_size\", \"image\"])\n",
    "\n",
    "    result_df = combined_df.join(broadcast(filtered_df), on=\"uuid\", how=\"inner\")\n",
    "    result_df = result_df.dropDuplicates([\"uuid\"]).repartition(100)\n",
    "    \n",
    "    # Write the result to the output path\n",
    "    result_df.write.mode(\"overwrite\").parquet(group_output_path)\n",
    "    print(f\"Processed and saved results for group_id={group_id} to {group_output_path}\")"
   ]
  },
  {
   "cell_type": "code",
   "execution_count": null,
   "id": "332cb967-6923-469e-90e1-32261c97a8e9",
   "metadata": {},
   "outputs": [],
   "source": [
    "base_input_path = f\"{BASE_PATH}/gbif/lookup_tables/2024-05-01/lookup_multi_images_museum_specimen\"\n",
    "base_output_path = f\"{BASE_PATH}/gbif/image_lookup/multi_images_museum_specimen\"\n",
    "\n",
    "group_folders = sorted(\n",
    "    [int(f.split(\"=\")[-1]) for f in os.listdir(base_input_path) if f.startswith(\"group_id=\")]\n",
    ")\n",
    "\n",
    "# Process each group iteratively\n",
    "for group_id in group_folders:\n",
    "    process_group(spark, base_input_path, base_output_path, str(group_id))"
   ]
  },
  {
   "cell_type": "markdown",
   "id": "fbd602b3-68c8-4320-9436-baf37b381206",
   "metadata": {},
   "source": [
    "# Add Category"
   ]
  },
  {
   "cell_type": "code",
   "execution_count": null,
   "id": "ad4b2dc2-a028-44c4-a439-16c0b6ac66ad",
   "metadata": {},
   "outputs": [
    {
     "name": "stderr",
     "output_type": "stream",
     "text": [
      "                                                                                \r"
     ]
    }
   ],
   "source": [
    "spark_df = spark.read.parquet(f\"{BASE_PATH}/gbif/attributes/cols_of_interest\")"
   ]
  },
  {
   "cell_type": "code",
   "execution_count": null,
   "id": "ed5ebb68-4f16-4b37-801c-1ea2df3ad499",
   "metadata": {},
   "outputs": [
    {
     "name": "stderr",
     "output_type": "stream",
     "text": [
      "                                                                                \r"
     ]
    }
   ],
   "source": [
    "lookup_tbl_museum_specimen = spark.read.parquet(f\"{BASE_PATH}/gbif/lookup_tables/2024-05-01/lookup_multi_images_museum_specimen\")"
   ]
  },
  {
   "cell_type": "code",
   "execution_count": 5,
   "id": "1b3005be-fd31-44da-96e5-315aa51be5ff",
   "metadata": {},
   "outputs": [
    {
     "name": "stdout",
     "output_type": "stream",
     "text": [
      "root\n",
      " |-- path: string (nullable = true)\n",
      " |-- uuid: string (nullable = true)\n",
      " |-- source_id: string (nullable = true)\n",
      " |-- basisOfRecord: string (nullable = true)\n",
      " |-- kingdom: string (nullable = true)\n",
      " |-- phylum: string (nullable = true)\n",
      " |-- class: string (nullable = true)\n",
      " |-- order: string (nullable = true)\n",
      " |-- family: string (nullable = true)\n",
      " |-- genus: string (nullable = true)\n",
      " |-- species: string (nullable = true)\n",
      " |-- group_id: integer (nullable = true)\n",
      "\n"
     ]
    }
   ],
   "source": [
    "lookup_tbl_museum_specimen.printSchema()"
   ]
  },
  {
   "cell_type": "markdown",
   "id": "1936bedd-4930-492f-bae5-bf1b93e271fb",
   "metadata": {},
   "source": [
    "Total number of images:"
   ]
  },
  {
   "cell_type": "code",
   "execution_count": 6,
   "id": "1f24cbe2-8cf1-45c9-964d-2442a118c67e",
   "metadata": {},
   "outputs": [
    {
     "name": "stderr",
     "output_type": "stream",
     "text": [
      "                                                                                \r"
     ]
    },
    {
     "data": {
      "text/plain": [
       "9491690"
      ]
     },
     "execution_count": 6,
     "metadata": {},
     "output_type": "execute_result"
    }
   ],
   "source": [
    "lookup_tbl_museum_specimen.count()"
   ]
  },
  {
   "cell_type": "markdown",
   "id": "f3331dd5-13bf-4d8d-a6d8-343a7ecb5a7e",
   "metadata": {},
   "source": [
    "Total number of occurrence:"
   ]
  },
  {
   "cell_type": "code",
   "execution_count": 7,
   "id": "9be1abf3-cbcc-4a03-8229-4efb3370150a",
   "metadata": {},
   "outputs": [
    {
     "name": "stderr",
     "output_type": "stream",
     "text": [
      "                                                                                \r"
     ]
    },
    {
     "data": {
      "text/plain": [
       "3698000"
      ]
     },
     "execution_count": 7,
     "metadata": {},
     "output_type": "execute_result"
    }
   ],
   "source": [
    "lookup_tbl_museum_specimen.select(\"source_id\").distinct().count()"
   ]
  },
  {
   "cell_type": "code",
   "execution_count": 7,
   "id": "7b3678b7-9633-49d8-9d39-3d98fdc4a8ac",
   "metadata": {},
   "outputs": [],
   "source": [
    "filtered_df = (\n",
    "    spark_df\n",
    "    .join(\n",
    "        lookup_tbl_museum_specimen.select(\"uuid\"),\n",
    "        on = \"uuid\",\n",
    "        how = \"inner\"\n",
    "    )\n",
    ")"
   ]
  },
  {
   "cell_type": "code",
   "execution_count": 7,
   "id": "5fb8e907-7669-4c4f-bdbf-fd060a188d30",
   "metadata": {
    "lines_to_next_cell": 2
   },
   "outputs": [],
   "source": [
    "from pyspark.sql.functions import col, when, mean, sum as spark_sum\n",
    "\n",
    "# Generate boolean columns and cast to integers for aggregation\n",
    "spark_df_with_flags = filtered_df.withColumn(\n",
    "    \"is_taxon_higher_rank\", \n",
    "    when(col(\"issue\").contains(\"TAXON_MATCH_HIGHERRANK\"), 1).otherwise(0)\n",
    ").withColumn(\n",
    "    \"is_taxon_match_none\", \n",
    "    when(col(\"issue\").contains(\"TAXON_MATCH_NONE\"), 1).otherwise(0)\n",
    ").withColumn(\n",
    "    \"is_taxon_match_fuzzy\", \n",
    "    when(col(\"issue\").contains(\"TAXON_MATCH_FUZZY\"), 1).otherwise(0)\n",
    ").withColumn(\n",
    "    \"is_any\", \n",
    "    when((col(\"issue\").contains(\"TAXON_MATCH_FUZZY\")) | (col(\"issue\").contains(\"TAXON_MATCH_NONE\")) | (col(\"issue\").contains(\"TAXON_MATCH_HIGHERRANK\")), 1).otherwise(0)\n",
    ")\n",
    "\n",
    "# Calculate sum and mean for each numeric column\n",
    "result_df = spark_df_with_flags.agg(\n",
    "    spark_sum(\"is_taxon_higher_rank\").alias(\"sum_taxon_higher_rank\"),\n",
    "    mean(\"is_taxon_higher_rank\").alias(\"mean_taxon_higher_rank\"),\n",
    "    spark_sum(\"is_taxon_match_none\").alias(\"sum_taxon_match_none\"),\n",
    "    mean(\"is_taxon_match_none\").alias(\"mean_taxon_match_none\"),\n",
    "    spark_sum(\"is_taxon_match_fuzzy\").alias(\"sum_taxon_match_fuzzy\"),\n",
    "    mean(\"is_taxon_match_fuzzy\").alias(\"mean_taxon_match_fuzzy\"),\n",
    "    spark_sum(\"is_any\").alias(\"sum_is_any\"),\n",
    "    mean(\"is_any\").alias(\"mean_is_any\")\n",
    ")"
   ]
  },
  {
   "cell_type": "code",
   "execution_count": 8,
   "id": "c453fa19-ce1f-4cb3-ac83-cb4ceb98a83c",
   "metadata": {},
   "outputs": [
    {
     "name": "stderr",
     "output_type": "stream",
     "text": [
      "                                                                                \r"
     ]
    },
    {
     "name": "stdout",
     "output_type": "stream",
     "text": [
      "+---------------------+----------------------+--------------------+---------------------+---------------------+----------------------+----------+-------------------+\n",
      "|sum_taxon_higher_rank|mean_taxon_higher_rank|sum_taxon_match_none|mean_taxon_match_none|sum_taxon_match_fuzzy|mean_taxon_match_fuzzy|sum_is_any|mean_is_any        |\n",
      "+---------------------+----------------------+--------------------+---------------------+---------------------+----------------------+----------+-------------------+\n",
      "|715078               |0.07533726870557297   |256979              |0.027074103768665012 |142789               |0.015043580226492858  |1114846   |0.11745495270073085|\n",
      "+---------------------+----------------------+--------------------+---------------------+---------------------+----------------------+----------+-------------------+\n",
      "\n"
     ]
    }
   ],
   "source": [
    "result_df.show(truncate=False)"
   ]
  },
  {
   "cell_type": "code",
   "execution_count": 5,
   "id": "74038bd1-e18a-43e4-a0c0-8a976c4566e4",
   "metadata": {},
   "outputs": [
    {
     "name": "stderr",
     "output_type": "stream",
     "text": [
      "                                                                                \r"
     ]
    },
    {
     "name": "stdout",
     "output_type": "stream",
     "text": [
      "+------------------+-------+---------+\n",
      "|basisOfRecord     |count  |bucket   |\n",
      "+------------------+-------+---------+\n",
      "|PRESERVED_SPECIMEN|8326477|5m-10m   |\n",
      "|FOSSIL_SPECIMEN   |638273 |500k-1m  |\n",
      "|MATERIAL_SAMPLE   |448903 |100k-500k|\n",
      "|LIVING_SPECIMEN   |76642  |50k-100k |\n",
      "|MATERIAL_CITATION |1395   |1k-5k    |\n",
      "+------------------+-------+---------+\n",
      "\n"
     ]
    }
   ],
   "source": [
    "view_freq(lookup_tbl_museum_specimen, \"basisOfRecord\")"
   ]
  },
  {
   "cell_type": "markdown",
   "id": "5f07fd54-2a84-4601-9789-611042f1132f",
   "metadata": {},
   "source": [
    "\n",
    "|**Category**|**Description**|\n",
    "|---|---|\n",
    "|**Plant**|Includes Plantae and related phyla like Magnoliopsida and Ochrophyta (e.g., seaweed).|\n",
    "|**Fungi**|Includes Fungi kingdom and related phyla like Mycetozoa, Oomycota, Leotiomycetes, and Sordariomycetes.|\n",
    "|**Insect**|Includes all organisms in the `class = \"Insecta\"`.|\n",
    "|**Invertebrate Zoology**|Marine and terrestrial invertebrates across multiple phyla, excluding Insecta.|\n",
    "|**Vertebrate Zoology - Amphibians**|Organisms in `class = \"Amphibia\"`.|\n",
    "|**Vertebrate Zoology - Reptiles**|Organisms in `class = \"Reptilia\"`.|\n",
    "|**Vertebrate Zoology - Birds**|Organisms in `class = \"Aves\"`.|\n",
    "|**Vertebrate Zoology - Fishes**|Organisms in `phylum = \"Chordata\"` and in various fish-related orders|\n",
    "|**Vertebrate Zoology - Mammals**|Organisms in `class = \"Mammalia\"`.|\n",
    "|**Vertebrate Zoology - Others**|Remaining Chordata organisms not in other vertebrate subcategories.|\n",
    "|**Microbiology**|Includes unicellular organisms and protists in microbiologically relevant phyla.|\n",
    "|**Uncategorized**|Records that do not meet any defined conditions, incertae sedis, miscellaneous, misalignment, etc.|\n"
   ]
  },
  {
   "cell_type": "code",
   "execution_count": 4,
   "id": "30d1fbfb-129b-4e00-a3a5-91ae5829630c",
   "metadata": {},
   "outputs": [],
   "source": [
    "fish_classes = [\n",
    "    \"Agnatha\",                    # Jawless fish\n",
    "    \"Myxini\",                     # Hagfish\n",
    "    \"Pteraspidomorphi\",           # Early jawless fish (extinct)\n",
    "    \"Thelodonti\",                 # Extinct\n",
    "    \"Anaspida\",                   # Extinct\n",
    "    \"Petromyzontida\",             # Lampreys\n",
    "    \"Hyperoartia\",\n",
    "    \"Conodonta\",                  # Conodonts (extinct)\n",
    "    \"Cephalaspidomorphi\",         # Early jawless fish (extinct)\n",
    "    \"Placodermi\",                 # Armoured fish (extinct)\n",
    "    \"Acanthodii\",                 # Spiny sharks (extinct)\n",
    "    \"Actinopterygii\",             # Ray-finned fish\n",
    "    \"Sarcopterygii\"               # Lobe-finned fish\n",
    "    \"Chondrichthyes\",             # cartilaginous fish\n",
    "    \"Sarcopterygii\"              # lobe-finned fish\n",
    "]\n",
    "\n",
    "fish_orders = [\n",
    "    # Class Myxini\n",
    "    \"Myxiniformes\",\n",
    "    # Class Cephalaspidomorphi\n",
    "    \"Petromyzontiformes\",\n",
    "    \n",
    "    # Class Chondrichthyes (Cartilaginous Fishes)\n",
    "    \"Selachii\",          # Sharks\n",
    "    \"Batoidei\",          # Rays, sawfishes, guitarfishes, skates, stingrays\n",
    "    \"Chimaeriformes\",    # Chimaeras\n",
    "\n",
    "    # Class Actinopterygii (Ray-Finned Fishes)\n",
    "    # Subclass Chondrostei\n",
    "    \"Acipenseriformes\",  # Sturgeons and paddlefishes\n",
    "    \"Polypteriformes\",   # Bichirs and reedfish\n",
    "\n",
    "    # Infraclass Holostei\n",
    "    \"Amiiformes\",        # Bowfins\n",
    "    \"Semionotiformes\",   # Gars\n",
    "\n",
    "    # Infraclass Teleostei (Advanced Bony Fishes)\n",
    "    # Superorder Osteoglossomorpha\n",
    "    \"Osteoglossiformes\", # Bonytongues, mooneyes, knife fishes, mormyrs\n",
    "\n",
    "    # Superorder Elopomorpha\n",
    "    \"Elopiformes\",       # Ladyfishes and tarpons\n",
    "    \"Albuliformes\",      # Bonefishes\n",
    "    \"Anguilliformes\",    # eels\n",
    "    \"Saccopharyngiformes\",# gulpers\n",
    "\n",
    "    # Superorder Clupeomorpha\n",
    "    \"Clupeiformes\",      # Herrings and anchovies\n",
    "\n",
    "    # Superorder Ostariophysi\n",
    "    \"Gonorynchiformes\",  # Milkfishes\n",
    "    \"Cypriniformes\",     # Carps, minnows, loaches\n",
    "    \"Characiformes\",     # Characins, tetras, piranhas\n",
    "    \"Siluriformes\",      # Catfishes\n",
    "    \"Gymnotiformes\",     # Knifefishes, electric eels\n",
    "\n",
    "    # Superorder Protacanthopterygii\n",
    "    \"Salmoniformes\",     # Salmons, trouts, and allies\n",
    "    \"Esociformes\",       # Pikes and pickerels\n",
    "    \"Osmeriformes\",      # Argentines and smelts\n",
    "\n",
    "    # Superorder Paracanthopterygii\n",
    "    \"Percopsiformes\",    # Trout-perches, pirate perches, cave fishes\n",
    "    \"Gadiformes\",        # Cods and allies\n",
    "    \"Lophiiformes\",      # Anglerfishes\n",
    "\n",
    "    \"Stomiiformes\",\n",
    "    \"Ateleopodiformes\",\n",
    "    \"Aulopiformes\",\n",
    "    \"Myctophiformes\",\n",
    "    \"Lampriformes\",\n",
    "    \"Polymixiiformes\",\n",
    "    \"Percopsiformes\",\n",
    "    \"Gadiformes\",\n",
    "    \"Batrachoidiformes\",\n",
    "    \"Lophiiformes\",\n",
    "    \"Ophidiiformes\",\n",
    "    \"Atheriniformes\",\n",
    "    \"Cyprinodontiformes\",\n",
    "    \"Beloniformes\",\n",
    "    \"Mugiliformes\",\n",
    "    \"Stephanoberyciformes\",\n",
    "    \"Beryciformes\",\n",
    "    \"Zeiformes\",\n",
    "    \"Gasterosteiformes\",\n",
    "    \"Synbranchiformes\",\n",
    "    \"Scorpaeniformes\",\n",
    "    \"Perciformes\",\n",
    "    \"Pleuronectiformes\",\n",
    "    \"Tetraodontiformes\",\n",
    "    \"Coelacanthiformes\",\n",
    "    \"Ceratodontiformes\",\n",
    "    \"Lepidosireniformes\"\n",
    "]\n",
    "\n",
    "invertebrate_phyla = [\n",
    "    \"Mollusca\", \"Arthropoda\", \"Bryozoa\", \"Cnidaria\", \"Brachiopoda\", \"Echinodermata\",\n",
    "    \"Porifera\", \"Foraminifera\", \"Tardigrada\", \"Annelida\", \"Nemertea\", \"Nematoda\",\n",
    "    \"Platyhelminthes\", \"Sipuncula\", \"Rotifera\", \"Chaetognatha\", \"Gastrotricha\",\n",
    "    \"Hemichordata\", \"Onychophora\", \"Xenacoelomorpha\", \"Ctenophora\", \"Priapulida\",\n",
    "    \"Acanthocephala\", \"Phoronida\", \"Entoprocta\", \"Nematomorpha\", \"Loricifera\", \"Kinorhyncha\", \"Cycliophora\"\n",
    "]\n",
    "\n",
    "microbiology_phyla = list(set([\n",
    "    \"Proteobacteria\", \"Cyanobacteria\", \"Actinobacteriota\", \"Firmicutes\", \"Firmicutes_C\",\n",
    "    \"Myzozoa\", \"Cercozoa\", \"Bigyra\", \"Ciliophora\", \"Haptophyta\", \"Metamonada\",\n",
    "    \"Euglenozoa\", \"Sarcomastigophora\", \"Bacteroidota\", \"Amoebozoa\", \"Microsporidia\",\n",
    "    \"Cryptophyta\", \"Myxococcota\", \"Fusobacteriota\"\n",
    "]))"
   ]
  },
  {
   "cell_type": "code",
   "execution_count": 5,
   "id": "9b764160-5cfe-4d12-a946-f5d9eb8be15d",
   "metadata": {},
   "outputs": [],
   "source": [
    "cond_plant = (\n",
    "    ((col(\"kingdom\").isNotNull()) & (col(\"kingdom\") == \"Plantae\")) |\n",
    "    ((col(\"phylum\").isNotNull()) & (col(\"phylum\").isin([\"Magnoliopsida\", \"Ochrophyta\"]))) # sea weed\n",
    ")\n",
    "cond_fungi = (\n",
    "    ((col(\"kingdom\").isNotNull()) & (col(\"kingdom\") == \"Fungi\")) |\n",
    "    ((col(\"phylum\").isNotNull()) & (col(\"phylum\").isin([\"Mycetozoa\", \"Oomycota\", \"Leotiomycetes\", \"Sordariomycetes\"])))\n",
    ")\n",
    "cond_insect = (col(\"class\").isNotNull()) & (col(\"class\") == \"Insecta\")\n",
    "cond_invertebrate = (\n",
    "    (col(\"phylum\").isNotNull()) & \n",
    "    (col(\"phylum\").isin(invertebrate_phyla)) & \n",
    "    ((col(\"class\").isNull()) | (col(\"class\") != \"Insecta\"))\n",
    ")\n",
    "\n",
    "cond_amphibian = (\n",
    "    (col(\"phylum\").isNotNull()) & \n",
    "    (col(\"class\").isNotNull()) &\n",
    "    (col(\"phylum\") == \"Chordata\") &\n",
    "    (col(\"class\") == \"Amphibia\")\n",
    ")\n",
    "cond_reptile = (\n",
    "    (col(\"phylum\").isNotNull()) & \n",
    "    (col(\"class\").isNotNull()) &\n",
    "    (col(\"phylum\") == \"Chordata\") &\n",
    "    (col(\"class\") == \"Reptilia\")\n",
    ")\n",
    "cond_bird = (\n",
    "    (col(\"phylum\").isNotNull()) & \n",
    "    (col(\"class\").isNotNull()) &\n",
    "    (col(\"phylum\") == \"Chordata\") &\n",
    "    (col(\"class\") == \"Aves\")\n",
    ")\n",
    "cond_fish = (\n",
    "    (col(\"phylum\").isNotNull()) & \n",
    "    (col(\"order\").isNotNull()) &\n",
    "    (col(\"phylum\") == \"Chordata\") &\n",
    "    (col(\"order\").isin(fish_orders))\n",
    ")\n",
    "cond_mammal = (\n",
    "    (col(\"phylum\").isNotNull()) & \n",
    "    (col(\"class\").isNotNull()) &\n",
    "    (col(\"phylum\") == \"Chordata\") &\n",
    "    (col(\"class\") == \"Mammalia\")\n",
    ")\n",
    "\n",
    "# cond_paleobiology = (\n",
    "#     (col(\"phylum\").isNotNull()) &\n",
    "#     (col(\"phylum\").isin(\n",
    "#         \"Brachiopoda\", \"Foraminifera\"\n",
    "#     ))\n",
    "# )\n",
    "\n",
    "cond_microbiology = (\n",
    "    (col(\"phylum\").isNotNull()) &\n",
    "    (col(\"phylum\").isin(microbiology_phyla))\n",
    ")"
   ]
  },
  {
   "cell_type": "code",
   "execution_count": 8,
   "id": "841f7d80-5fd9-4c5d-8e0c-44d01e546e85",
   "metadata": {},
   "outputs": [],
   "source": [
    "lookup_tbl_categorized = lookup_tbl_museum_specimen.withColumn(\n",
    "    \"category\",\n",
    "    when(cond_plant, \"Plant\")\n",
    "    .when(cond_fungi, \"Fungi\")  # Assuming fungi are classified under paleobiology\n",
    "    .when(cond_insect, \"Insect\")\n",
    "    .when(cond_invertebrate, \"Invertebrate Zoology\")\n",
    "    .when(cond_fish, \"Vertebrate Zoology - Fishes\")\n",
    "    .when(cond_amphibian, \"Vertebrate Zoology - Amphibians\")\n",
    "    .when(cond_reptile, \"Vertebrate Zoology - Reptiles\")\n",
    "    .when(cond_bird, \"Vertebrate Zoology - Birds\")\n",
    "    .when(cond_mammal, \"Vertebrate Zoology - Mammals\")\n",
    "    .when(((col(\"phylum\").isNotNull()) & (col(\"phylum\") == \"Chordata\")), \"Vertebrate Zoology - Others\") \n",
    "    #.when(cond_paleobiology, \"Paleobiology\")\n",
    "    .when(cond_microbiology, \"Microbiology\")\n",
    "    .otherwise(\"Uncategorized\")\n",
    ")"
   ]
  },
  {
   "cell_type": "code",
   "execution_count": 11,
   "id": "3ecf5395-5c7f-47bc-a2ba-ca1af4bf4bf9",
   "metadata": {
    "scrolled": true
   },
   "outputs": [
    {
     "name": "stderr",
     "output_type": "stream",
     "text": [
      "                                                                                \r"
     ]
    },
    {
     "name": "stdout",
     "output_type": "stream",
     "text": [
      "+-------------------------------+-------+---------+\n",
      "|category                       |count  |bucket   |\n",
      "+-------------------------------+-------+---------+\n",
      "|Insect                         |4206096|1m-5m    |\n",
      "|Plant                          |2601735|1m-5m    |\n",
      "|Invertebrate Zoology           |824877 |500k-1m  |\n",
      "|Fungi                          |823069 |500k-1m  |\n",
      "|Vertebrate Zoology - Birds     |382277 |100k-500k|\n",
      "|Uncategorized                  |279530 |100k-500k|\n",
      "|Vertebrate Zoology - Mammals   |119345 |100k-500k|\n",
      "|Vertebrate Zoology - Fishes    |118171 |100k-500k|\n",
      "|Vertebrate Zoology - Others    |101483 |100k-500k|\n",
      "|Vertebrate Zoology - Amphibians|30205  |10k-50k  |\n",
      "|Microbiology                   |4902   |1k-5k    |\n",
      "+-------------------------------+-------+---------+\n",
      "\n"
     ]
    }
   ],
   "source": [
    "view_freq(lookup_tbl_categorized, \"category\", truncate=False)"
   ]
  },
  {
   "cell_type": "code",
   "execution_count": 46,
   "id": "65cea995-d34b-4180-8ca3-d97034a39254",
   "metadata": {
    "scrolled": true
   },
   "outputs": [
    {
     "name": "stdout",
     "output_type": "stream",
     "text": [
      "+------------------+-----+-------+\n",
      "|basisOfRecord     |count|bucket |\n",
      "+------------------+-----+-------+\n",
      "|FOSSIL_SPECIMEN   |35867|10k-50k|\n",
      "|PRESERVED_SPECIMEN|27297|10k-50k|\n",
      "|MATERIAL_SAMPLE   |2512 |1k-5k  |\n",
      "|LIVING_SPECIMEN   |703  |501-1k |\n",
      "+------------------+-----+-------+\n",
      "\n"
     ]
    }
   ],
   "source": [
    "view_freq(\n",
    "    lookup_tbl_categorized.filter(\n",
    "        (col(\"category\")==\"Uncategorized\") &\n",
    "        (col(\"kingdom\")!=\"incertae sedis\")\n",
    "    ),\n",
    "    \"basisOfRecord\"\n",
    ")"
   ]
  },
  {
   "cell_type": "code",
   "execution_count": 75,
   "id": "6ae2e225-d4e8-4e20-bfaf-77468a135921",
   "metadata": {
    "lines_to_next_cell": 2,
    "scrolled": true
   },
   "outputs": [
    {
     "name": "stdout",
     "output_type": "stream",
     "text": [
      "+------------------------+-----+-------+\n",
      "|phylum                  |count|bucket |\n",
      "+------------------------+-----+-------+\n",
      "|NULL                    |20782|10k-50k|\n",
      "|2024-04-27T03:19:49.935Z|41   |11-50  |\n",
      "|2519117                 |3    |1-10   |\n",
      "|35                      |2    |1-10   |\n",
      "|US                      |2    |1-10   |\n",
      "|3169789                 |2    |1-10   |\n",
      "+------------------------+-----+-------+\n",
      "\n"
     ]
    }
   ],
   "source": [
    "view_freq(\n",
    "    lookup_tbl_categorized.filter(\n",
    "        (col(\"category\")==\"Uncategorized\") &\n",
    "        (col(\"kingdom\")!=\"incertae sedis\")\n",
    "    ),\n",
    "    \"phylum\",\n",
    "    40\n",
    ")"
   ]
  },
  {
   "cell_type": "markdown",
   "id": "d19ba2bb-cde4-4504-b885-53a996de2cf8",
   "metadata": {},
   "source": [
    "# Repartition by Category"
   ]
  },
  {
   "cell_type": "code",
   "execution_count": null,
   "id": "6b7e2931-8488-455c-aa66-b25202b4009d",
   "metadata": {},
   "outputs": [
    {
     "name": "stderr",
     "output_type": "stream",
     "text": [
      "                                                                                \r"
     ]
    }
   ],
   "source": [
    "result_df = spark.read.parquet(f\"{BASE_PATH}/gbif/image_lookup/multi_images_museum_specimen\")"
   ]
  },
  {
   "cell_type": "code",
   "execution_count": 10,
   "id": "e64662e9-56be-4582-847d-4c0d32c16b19",
   "metadata": {},
   "outputs": [],
   "source": [
    "result_df_categorized = result_df.withColumn(\n",
    "    \"category\",\n",
    "    when(cond_plant, \"Plant\")\n",
    "    .when(cond_fungi, \"Fungi\")  # Assuming fungi are classified under paleobiology\n",
    "    .when(cond_insect, \"Insect\")\n",
    "    .when(cond_invertebrate, \"Invertebrate Zoology\")\n",
    "    .when(cond_fish, \"Vertebrate Zoology - Fishes\")\n",
    "    .when(cond_amphibian, \"Vertebrate Zoology - Amphibians\")\n",
    "    .when(cond_reptile, \"Vertebrate Zoology - Reptiles\")\n",
    "    .when(cond_bird, \"Vertebrate Zoology - Birds\")\n",
    "    .when(cond_mammal, \"Vertebrate Zoology - Mammals\")\n",
    "    .when(((col(\"phylum\").isNotNull()) & (col(\"phylum\") == \"Chordata\")), \"Vertebrate Zoology - Others\") \n",
    "    #.when(cond_paleobiology, \"Paleobiology\")\n",
    "    .when(cond_microbiology, \"Microbiology\")\n",
    "    .otherwise(\"Uncategorized\")\n",
    ")"
   ]
  },
  {
   "cell_type": "code",
   "execution_count": 8,
   "id": "4f657c25-afc9-407b-9e76-126ebe395f17",
   "metadata": {},
   "outputs": [
    {
     "name": "stderr",
     "output_type": "stream",
     "text": [
      "                                                                                \r"
     ]
    },
    {
     "name": "stdout",
     "output_type": "stream",
     "text": [
      "+-------------------------------+-------+---------+\n",
      "|category                       |count  |bucket   |\n",
      "+-------------------------------+-------+---------+\n",
      "|Insect                         |4206096|1m-5m    |\n",
      "|Plant                          |2601001|1m-5m    |\n",
      "|Invertebrate Zoology           |824852 |500k-1m  |\n",
      "|Fungi                          |823069 |500k-1m  |\n",
      "|Vertebrate Zoology - Birds     |382277 |100k-500k|\n",
      "|Uncategorized                  |279530 |100k-500k|\n",
      "|Vertebrate Zoology - Mammals   |119345 |100k-500k|\n",
      "|Vertebrate Zoology - Fishes    |118171 |100k-500k|\n",
      "|Vertebrate Zoology - Others    |101483 |100k-500k|\n",
      "|Vertebrate Zoology - Amphibians|30205  |10k-50k  |\n",
      "|Microbiology                   |4902   |1k-5k    |\n",
      "+-------------------------------+-------+---------+\n",
      "\n"
     ]
    }
   ],
   "source": [
    "view_freq(result_df_categorized, [\"category\"], truncate=False)"
   ]
  },
  {
   "cell_type": "code",
   "execution_count": 17,
   "id": "34e0ee4f-ea87-4c0a-b751-3d062d7a787a",
   "metadata": {},
   "outputs": [
    {
     "name": "stderr",
     "output_type": "stream",
     "text": [
      "                                                                                \r"
     ]
    }
   ],
   "source": [
    "from pyspark.sql.functions import ceil\n",
    "rows_per_partition = 1500\n",
    "\n",
    "partition_tbl = (\n",
    "    result_df_categorized\n",
    "    .groupBy(\"category\")\n",
    "    .count()\n",
    "    .orderBy(desc(\"count\"))\n",
    "    .withColumn(\"partition_count\", ceil(col(\"count\") / rows_per_partition))\n",
    ")\n",
    "\n",
    "partition_dict = {row[\"category\"]: row[\"partition_count\"] for row in partition_tbl.collect()}"
   ]
  },
  {
   "cell_type": "code",
   "execution_count": 18,
   "id": "e6d2bd0f-f7df-497e-943a-2f9e59468a98",
   "metadata": {},
   "outputs": [
    {
     "data": {
      "text/plain": [
       "{'Insect': 2805,\n",
       " 'Plant': 1735,\n",
       " 'Invertebrate Zoology': 550,\n",
       " 'Fungi': 549,\n",
       " 'Vertebrate Zoology - Birds': 255,\n",
       " 'Uncategorized': 187,\n",
       " 'Vertebrate Zoology - Mammals': 80,\n",
       " 'Vertebrate Zoology - Fishes': 79,\n",
       " 'Vertebrate Zoology - Others': 68,\n",
       " 'Vertebrate Zoology - Amphibians': 21,\n",
       " 'Microbiology': 4}"
      ]
     },
     "execution_count": 18,
     "metadata": {},
     "output_type": "execute_result"
    }
   ],
   "source": [
    "partition_dict"
   ]
  },
  {
   "cell_type": "code",
   "execution_count": null,
   "id": "32733cf4-693f-4351-b6f9-6c2389344a0e",
   "metadata": {},
   "outputs": [
    {
     "name": "stderr",
     "output_type": "stream",
     "text": [
      "                                                                                \r"
     ]
    }
   ],
   "source": [
    "\n",
    "category = \"Invertebrate Zoology\"\n",
    "partition_count = partition_dict[category]\n",
    "filter_condition = cond_plant\n",
    "\n",
    "(\n",
    "    result_df\n",
    "    .filter(filter_condition)\n",
    "    .repartition(partition_count)\n",
    "    .write.mode(\"overwrite\")\n",
    "    .parquet(f\"{BASE_PATH}/gbif/image_lookup/multi_images_museum_specimen_partitioned_by_category/category={category}\")\n",
    ")"
   ]
  },
  {
   "cell_type": "code",
   "execution_count": null,
   "id": "9918650d-1bf7-4821-81df-a40c5d353503",
   "metadata": {},
   "outputs": [
    {
     "name": "stdout",
     "output_type": "stream",
     "text": [
      "Category: Insect, Partitions: 2805\n"
     ]
    },
    {
     "name": "stderr",
     "output_type": "stream",
     "text": [
      "                                                                                \r"
     ]
    },
    {
     "name": "stdout",
     "output_type": "stream",
     "text": [
      "Written Insect to disk\n",
      "Category: Plant, Partitions: 1735\n"
     ]
    },
    {
     "name": "stderr",
     "output_type": "stream",
     "text": [
      "                                                                                \r"
     ]
    },
    {
     "name": "stdout",
     "output_type": "stream",
     "text": [
      "Written Plant to disk\n",
      "Category: Invertebrate Zoology, Partitions: 550\n"
     ]
    },
    {
     "name": "stderr",
     "output_type": "stream",
     "text": [
      "                                                                                \r"
     ]
    },
    {
     "name": "stdout",
     "output_type": "stream",
     "text": [
      "Written Invertebrate Zoology to disk\n",
      "Category: Fungi, Partitions: 549\n"
     ]
    },
    {
     "name": "stderr",
     "output_type": "stream",
     "text": [
      "                                                                                \r"
     ]
    },
    {
     "name": "stdout",
     "output_type": "stream",
     "text": [
      "Written Fungi to disk\n",
      "Category: Vertebrate Zoology - Birds, Partitions: 255\n"
     ]
    },
    {
     "name": "stderr",
     "output_type": "stream",
     "text": [
      "                                                                                \r"
     ]
    },
    {
     "name": "stdout",
     "output_type": "stream",
     "text": [
      "Written Vertebrate Zoology - Birds to disk\n",
      "Category: Uncategorized, Partitions: 187\n"
     ]
    },
    {
     "name": "stderr",
     "output_type": "stream",
     "text": [
      "                                                                                \r"
     ]
    },
    {
     "name": "stdout",
     "output_type": "stream",
     "text": [
      "Written Uncategorized to disk\n",
      "Category: Vertebrate Zoology - Mammals, Partitions: 80\n"
     ]
    },
    {
     "name": "stderr",
     "output_type": "stream",
     "text": [
      "                                                                                \r"
     ]
    },
    {
     "name": "stdout",
     "output_type": "stream",
     "text": [
      "Written Vertebrate Zoology - Mammals to disk\n",
      "Category: Vertebrate Zoology - Fishes, Partitions: 79\n"
     ]
    },
    {
     "name": "stderr",
     "output_type": "stream",
     "text": [
      "                                                                                \r"
     ]
    },
    {
     "name": "stdout",
     "output_type": "stream",
     "text": [
      "Written Vertebrate Zoology - Fishes to disk\n",
      "Category: Vertebrate Zoology - Others, Partitions: 68\n"
     ]
    },
    {
     "name": "stderr",
     "output_type": "stream",
     "text": [
      "                                                                                \r"
     ]
    },
    {
     "name": "stdout",
     "output_type": "stream",
     "text": [
      "Written Vertebrate Zoology - Others to disk\n",
      "Category: Vertebrate Zoology - Amphibians, Partitions: 21\n"
     ]
    },
    {
     "name": "stderr",
     "output_type": "stream",
     "text": [
      "                                                                                \r"
     ]
    },
    {
     "name": "stdout",
     "output_type": "stream",
     "text": [
      "Written Vertebrate Zoology - Amphibians to disk\n",
      "Category: Microbiology, Partitions: 4\n"
     ]
    },
    {
     "name": "stderr",
     "output_type": "stream",
     "text": [
      "[Stage 52:=============================>                            (2 + 2) / 4]\r"
     ]
    },
    {
     "name": "stdout",
     "output_type": "stream",
     "text": [
      "Written Microbiology to disk\n"
     ]
    },
    {
     "name": "stderr",
     "output_type": "stream",
     "text": [
      "                                                                                \r"
     ]
    }
   ],
   "source": [
    "for category, partition_count in partition_dict.items():\n",
    "    print(f\"Category: {category}, Partitions: {partition_count}\")\n",
    "    (\n",
    "        result_df_categorized\n",
    "        .filter(\n",
    "            col(\"category\") == category\n",
    "        )\n",
    "        .drop(\"category\")\n",
    "        .repartition(partition_count)\n",
    "        .write.mode(\"overwrite\")\n",
    "        .parquet(f\"{BASE_PATH}/gbif/image_lookup/multi_images_museum_specimen_partitioned_by_category/category={category}\")\n",
    "    )\n",
    "    print(f\"Written {category} to disk\")"
   ]
  },
  {
   "cell_type": "code",
   "execution_count": null,
   "id": "4d074f63-90d3-4c94-a21b-6385f8ad3f4c",
   "metadata": {},
   "outputs": [],
   "source": [
    "partition_result_df = spark.read.parquet(f\"{BASE_PATH}/gbif/image_lookup/multi_images_museum_specimen_partitioned_by_category\")"
   ]
  },
  {
   "cell_type": "code",
   "execution_count": 21,
   "id": "7b0a2bc5-9e2a-488f-9177-c52e0fb4378a",
   "metadata": {},
   "outputs": [
    {
     "name": "stdout",
     "output_type": "stream",
     "text": [
      "root\n",
      " |-- uuid: string (nullable = true)\n",
      " |-- original_size: array (nullable = true)\n",
      " |    |-- element: long (containsNull = true)\n",
      " |-- resized_size: array (nullable = true)\n",
      " |    |-- element: long (containsNull = true)\n",
      " |-- image: binary (nullable = true)\n",
      " |-- path: string (nullable = true)\n",
      " |-- source_id: string (nullable = true)\n",
      " |-- basisOfRecord: string (nullable = true)\n",
      " |-- kingdom: string (nullable = true)\n",
      " |-- phylum: string (nullable = true)\n",
      " |-- class: string (nullable = true)\n",
      " |-- order: string (nullable = true)\n",
      " |-- family: string (nullable = true)\n",
      " |-- genus: string (nullable = true)\n",
      " |-- species: string (nullable = true)\n",
      " |-- group_id: integer (nullable = true)\n",
      " |-- category: string (nullable = true)\n",
      "\n"
     ]
    }
   ],
   "source": [
    "partition_result_df.printSchema()"
   ]
  },
  {
   "cell_type": "code",
   "execution_count": 22,
   "id": "f318d7d0-f610-42a3-b52c-601099ae5672",
   "metadata": {},
   "outputs": [
    {
     "name": "stderr",
     "output_type": "stream",
     "text": [
      "                                                                                \r"
     ]
    },
    {
     "data": {
      "text/plain": [
       "9490931"
      ]
     },
     "execution_count": 22,
     "metadata": {},
     "output_type": "execute_result"
    }
   ],
   "source": [
    "partition_result_df.count()"
   ]
  },
  {
   "cell_type": "code",
   "execution_count": null,
   "id": "66f5eb7b-02d6-4e8f-b0ce-8e95bc8e18b1",
   "metadata": {},
   "outputs": [
    {
     "name": "stderr",
     "output_type": "stream",
     "text": [
      "                                                                                \r"
     ]
    }
   ],
   "source": [
    "data_path_root = f\"{BASE_PATH}/gbif/image_lookup/multi_images_museum_specimen\"\n",
    "\n",
    "museum_specimen_df = spark.read.parquet(data_path_root)"
   ]
  },
  {
   "cell_type": "code",
   "execution_count": 5,
   "id": "24b45b67-1af8-46bd-a352-c4a95c6dae25",
   "metadata": {},
   "outputs": [
    {
     "name": "stderr",
     "output_type": "stream",
     "text": [
      "                                                                                \r"
     ]
    },
    {
     "name": "stdout",
     "output_type": "stream",
     "text": [
      "+-------------------------------+\n",
      "|category                       |\n",
      "+-------------------------------+\n",
      "|Vertebrate Zoology - Amphibians|\n",
      "|Vertebrate Zoology - Fishes    |\n",
      "|Vertebrate Zoology - Mammals   |\n",
      "|Insect                         |\n",
      "|Vertebrate Zoology - Birds     |\n",
      "|Microbiology                   |\n",
      "|Fungi                          |\n",
      "|Invertebrate Zoology           |\n",
      "|Plant                          |\n",
      "|Vertebrate Zoology - Others    |\n",
      "|Uncategorized                  |\n",
      "+-------------------------------+\n",
      "\n"
     ]
    }
   ],
   "source": [
    "museum_specimen_df.select(\"category\").distinct().show(truncate=False)"
   ]
  },
  {
   "cell_type": "code",
   "execution_count": 11,
   "id": "45b03f93-fb6a-461f-8024-55123887f2aa",
   "metadata": {},
   "outputs": [],
   "source": [
    "data_path_insect = os.path.join(data_path_root, \"category=Insect\")\n",
    "museum_specimen_df_insect = spark.read.parquet(data_path_insect)"
   ]
  },
  {
   "cell_type": "markdown",
   "id": "8baa7142-6246-4b73-8e8a-d2af84321590",
   "metadata": {},
   "source": [
    "# Coverting Binary to Arrays"
   ]
  },
  {
   "cell_type": "code",
   "execution_count": 6,
   "id": "4c2304be-e303-4a73-b28b-cc910f7df17b",
   "metadata": {},
   "outputs": [
    {
     "name": "stdout",
     "output_type": "stream",
     "text": [
      "root\n",
      " |-- uuid: string (nullable = true)\n",
      " |-- original_size: array (nullable = true)\n",
      " |    |-- element: long (containsNull = true)\n",
      " |-- resized_size: array (nullable = true)\n",
      " |    |-- element: long (containsNull = true)\n",
      " |-- image: binary (nullable = true)\n",
      " |-- path: string (nullable = true)\n",
      " |-- source_id: string (nullable = true)\n",
      " |-- basisOfRecord: string (nullable = true)\n",
      " |-- kingdom: string (nullable = true)\n",
      " |-- phylum: string (nullable = true)\n",
      " |-- class: string (nullable = true)\n",
      " |-- order: string (nullable = true)\n",
      " |-- family: string (nullable = true)\n",
      " |-- genus: string (nullable = true)\n",
      " |-- species: string (nullable = true)\n",
      " |-- group_id: integer (nullable = true)\n",
      "\n"
     ]
    },
    {
     "data": {
      "text/plain": [
       "DataFrame[uuid: string, original_size: array<bigint>, resized_size: array<bigint>, image: binary, path: string, source_id: string, basisOfRecord: string, kingdom: string, phylum: string, class: string, order: string, family: string, genus: string, species: string, group_id: int]"
      ]
     },
     "execution_count": 6,
     "metadata": {},
     "output_type": "execute_result"
    }
   ],
   "source": [
    "test_df = result_df.filter(\n",
    "    col(\"uuid\").isin([\n",
    "        \"5ed0f796-c239-4067-9847-2e991c5e6e16\",\n",
    "        \"bb69c2c9-de88-4817-8240-a2f24ecbc54b\",\n",
    "        \"5892077d-3bfb-42f2-a6b6-96fcf6e74176\",\n",
    "        \"cddf7e35-101a-4000-80e4-25aa34fa4c16\",\n",
    "        \"2171905a-644f-44f4-a2e3-22ebce6d40a6\",\n",
    "        \"53011912-f7f5-4b0c-898e-2d47718697af\",\n",
    "        \"bba811df-6ff3-414a-a4be-bf92c264dd3d\",\n",
    "        \"a857fd6c-9b6b-4c73-8a4f-0546e244d1cc\",\n",
    "        \"017804a4-6e28-4fb0-81ea-b4ee34db86e6\",\n",
    "        \"ffffe1b0-9f32-4342-a699-87e718d85b04\"\n",
    "    ])\n",
    ")\n",
    "test_df.printSchema()\n",
    "test_df.cache()"
   ]
  },
  {
   "cell_type": "code",
   "execution_count": 10,
   "id": "b5b7984f-c4df-4d11-855a-e7662c8dffdb",
   "metadata": {},
   "outputs": [],
   "source": [
    "def decode_image(image_bytes, original_size, resized_size):\n",
    "    try:\n",
    "        original_height, original_width = original_size\n",
    "        img_array = np.frombuffer(image_bytes, dtype=np.uint8).reshape((original_height, original_width, 3))\n",
    "    except Exception as e:\n",
    "        resized_height, resized_width = resized_size\n",
    "        img_array = np.frombuffer(image_bytes, dtype=np.uint8).reshape((resized_height, resized_width, 3))\n",
    "    \n",
    "    # Convert BGR to RGB\n",
    "    return img_array[..., ::-1]"
   ]
  },
  {
   "cell_type": "code",
   "execution_count": 10,
   "id": "3a70afd4-7bc7-49f9-95e9-af7a97962b34",
   "metadata": {},
   "outputs": [],
   "source": [
    "import numpy as np\n",
    "from pyspark.sql.functions import udf\n",
    "from pyspark.sql.types import ArrayType, FloatType\n",
    "\n",
    "def _decode_image(image_bytes, original_size, resized_size):\n",
    "    \"\"\"\n",
    "    Process the raw image bytes using either original_size or resized_size.\n",
    "    Returns a flattened RGB float32 list.\n",
    "    \"\"\"\n",
    "    if image_bytes is None:\n",
    "        return None\n",
    "    \n",
    "    try:\n",
    "        original_height, original_width = original_size\n",
    "        img_array = np.frombuffer(image_bytes, dtype=np.uint8).reshape(\n",
    "            (original_height, original_width, 3)\n",
    "        )\n",
    "    except Exception:\n",
    "        resized_height, resized_width = resized_size\n",
    "        img_array = np.frombuffer(image_bytes, dtype=np.uint8).reshape(\n",
    "            (resized_height, resized_width, 3)\n",
    "        )\n",
    "    \n",
    "    # Convert BGR to RGB\n",
    "    img_rgb = img_array[..., ::-1]\n",
    "    \n",
    "    # Flatten (ravel) and convert to float32\n",
    "    # If you *don't* need flattening for a subsequent step, you can skip this\n",
    "    flattened = img_rgb.astype(np.float32).ravel()\n",
    "    \n",
    "    # Convert back to a Python list so Spark can handle it\n",
    "    return flattened.tolist()\n",
    "\n",
    "# Now wrap this Python function in a Spark UDF\n",
    "decode_image_udf = udf(_decode_image, ArrayType(FloatType()))"
   ]
  },
  {
   "cell_type": "code",
   "execution_count": 11,
   "id": "547fbaf5-195d-4871-9d9f-b5863dd31444",
   "metadata": {},
   "outputs": [],
   "source": [
    "df_with_features = test_df.withColumn(\n",
    "    \"features\", \n",
    "    decode_image_udf(col(\"image\"), col(\"original_size\"), col(\"resized_size\"))\n",
    ")"
   ]
  },
  {
   "cell_type": "code",
   "execution_count": 12,
   "id": "e0581519-d3f4-4dd9-aa4f-9b246c5e7191",
   "metadata": {},
   "outputs": [
    {
     "name": "stdout",
     "output_type": "stream",
     "text": [
      "root\n",
      " |-- uuid: string (nullable = true)\n",
      " |-- original_size: array (nullable = true)\n",
      " |    |-- element: long (containsNull = true)\n",
      " |-- resized_size: array (nullable = true)\n",
      " |    |-- element: long (containsNull = true)\n",
      " |-- image: binary (nullable = true)\n",
      " |-- path: string (nullable = true)\n",
      " |-- source_id: string (nullable = true)\n",
      " |-- basisOfRecord: string (nullable = true)\n",
      " |-- kingdom: string (nullable = true)\n",
      " |-- phylum: string (nullable = true)\n",
      " |-- class: string (nullable = true)\n",
      " |-- order: string (nullable = true)\n",
      " |-- family: string (nullable = true)\n",
      " |-- genus: string (nullable = true)\n",
      " |-- species: string (nullable = true)\n",
      " |-- group_id: integer (nullable = true)\n",
      " |-- features: array (nullable = true)\n",
      " |    |-- element: float (containsNull = true)\n",
      "\n"
     ]
    }
   ],
   "source": [
    "df_with_features.printSchema()"
   ]
  },
  {
   "cell_type": "code",
   "execution_count": 14,
   "id": "e2d6df2f-9182-41d4-8790-23caef050b61",
   "metadata": {},
   "outputs": [
    {
     "name": "stderr",
     "output_type": "stream",
     "text": [
      "                                                                                \r"
     ]
    }
   ],
   "source": [
    "df_with_features.drop(col(\"image\")).write.mode(\"overwrite\").parquet(\"test/test_df_with_features\")"
   ]
  },
  {
   "cell_type": "code",
   "execution_count": 18,
   "id": "377f4e55-78cc-46b3-a202-5787652067fb",
   "metadata": {},
   "outputs": [],
   "source": [
    "import numpy as np\n",
    "\n",
    "def _decode_image(image_bytes, original_size, resized_size, flatten=True):\n",
    "    \"\"\"\n",
    "    Process the raw image bytes using either original_size or resized_size.\n",
    "    Optionally returns a flattened or 3D RGB float32 list.\n",
    "\n",
    "    Parameters\n",
    "    ----------\n",
    "    image_bytes : bytes\n",
    "        The raw image bytes (presumably in BGR format).\n",
    "    original_size : tuple or list\n",
    "        (height, width)\n",
    "    resized_size : tuple or list\n",
    "        (height, width)\n",
    "    flatten : bool\n",
    "        If True, return a 1D array of floats; if False, return a 3D array of floats.\n",
    "\n",
    "    Returns\n",
    "    -------\n",
    "    Python list (1D or nested) of floats in RGB order.\n",
    "    \"\"\"\n",
    "    if image_bytes is None:\n",
    "        return None\n",
    "\n",
    "    try:\n",
    "        original_height, original_width = original_size\n",
    "        img_array = np.frombuffer(image_bytes, dtype=np.uint8).reshape(\n",
    "            (original_height, original_width, 3)\n",
    "        )\n",
    "    except Exception:\n",
    "        resized_height, resized_width = resized_size\n",
    "        img_array = np.frombuffer(image_bytes, dtype=np.uint8).reshape(\n",
    "            (resized_height, resized_width, 3)\n",
    "        )\n",
    "\n",
    "    # Convert BGR to RGB\n",
    "    img_rgb = img_array[..., ::-1].astype(np.float32)\n",
    "\n",
    "    if flatten:\n",
    "        # Flatten to 1D\n",
    "        return img_rgb.ravel().tolist()\n",
    "    else:\n",
    "        # Keep as 3D. Spark can store this as a nested array-of-arrays.\n",
    "        # Convert the NumPy 3D array to nested Python lists\n",
    "        return img_rgb.tolist()\n",
    "\n",
    "# For a nested 3D array: ArrayType(ArrayType(ArrayType(FloatType())))\n",
    "NestedArray3DType = ArrayType(ArrayType(ArrayType(FloatType())))\n",
    "\n",
    "# 1D version (flattened)\n",
    "decode_image_udf_flatten = udf(\n",
    "    lambda image_bytes, original_size, resized_size:\n",
    "        _decode_image(image_bytes, original_size, resized_size, flatten=True),\n",
    "    ArrayType(FloatType())\n",
    ")\n",
    "\n",
    "# 3D version\n",
    "decode_image_udf_3d = udf(\n",
    "    lambda image_bytes, original_size, resized_size:\n",
    "        _decode_image(image_bytes, original_size, resized_size, flatten=False),\n",
    "    NestedArray3DType\n",
    ")"
   ]
  },
  {
   "cell_type": "code",
   "execution_count": 19,
   "id": "6af6721b-f7aa-439e-88de-a582713ee096",
   "metadata": {},
   "outputs": [
    {
     "name": "stdout",
     "output_type": "stream",
     "text": [
      "root\n",
      " |-- uuid: string (nullable = true)\n",
      " |-- original_size: array (nullable = true)\n",
      " |    |-- element: long (containsNull = true)\n",
      " |-- resized_size: array (nullable = true)\n",
      " |    |-- element: long (containsNull = true)\n",
      " |-- image: binary (nullable = true)\n",
      " |-- path: string (nullable = true)\n",
      " |-- source_id: string (nullable = true)\n",
      " |-- basisOfRecord: string (nullable = true)\n",
      " |-- kingdom: string (nullable = true)\n",
      " |-- phylum: string (nullable = true)\n",
      " |-- class: string (nullable = true)\n",
      " |-- order: string (nullable = true)\n",
      " |-- family: string (nullable = true)\n",
      " |-- genus: string (nullable = true)\n",
      " |-- species: string (nullable = true)\n",
      " |-- group_id: integer (nullable = true)\n",
      " |-- features_3d: array (nullable = true)\n",
      " |    |-- element: array (containsNull = true)\n",
      " |    |    |-- element: array (containsNull = true)\n",
      " |    |    |    |-- element: float (containsNull = true)\n",
      "\n"
     ]
    }
   ],
   "source": [
    "df_with_features_3d = test_df.withColumn(\n",
    "    \"features_3d\",\n",
    "    decode_image_udf_3d(\n",
    "        col(\"image\"),\n",
    "        col(\"original_size\"),\n",
    "        col(\"resized_size\")\n",
    "    )\n",
    ")\n",
    "\n",
    "df_with_features_3d.printSchema()"
   ]
  },
  {
   "cell_type": "code",
   "execution_count": 22,
   "id": "eb65de18-72a5-42bf-a77c-67ed04e3873f",
   "metadata": {},
   "outputs": [
    {
     "name": "stderr",
     "output_type": "stream",
     "text": [
      "                                                                                \r"
     ]
    }
   ],
   "source": [
    "img_arrary = df_with_features_3d.select(\"features_3d\").limit(1).collect()[0]"
   ]
  },
  {
   "cell_type": "code",
   "execution_count": 20,
   "id": "815e09bf-18f3-4438-9e32-2698c040a56b",
   "metadata": {},
   "outputs": [
    {
     "name": "stdout",
     "output_type": "stream",
     "text": [
      "Shape: (2, 3, 3)\n",
      "Array:\n",
      " [[[255   0   0]\n",
      "  [  0 255   0]\n",
      "  [  0   0 255]]\n",
      "\n",
      " [[255 255   0]\n",
      "  [255   0 255]\n",
      "  [  0 255 255]]]\n"
     ]
    }
   ],
   "source": [
    "import numpy as np\n",
    "\n",
    "# A small 2 x 3 RGB image\n",
    "# Each 'pixel' is [R, G, B].\n",
    "img_rgb = np.array([\n",
    "    [\n",
    "        [255,   0,   0],  # pixel (row=0, col=0): bright red\n",
    "        [  0, 255,   0],  # pixel (row=0, col=1): bright green\n",
    "        [  0,   0, 255],  # pixel (row=0, col=2): bright blue\n",
    "    ],\n",
    "    [\n",
    "        [255, 255,   0],  # pixel (row=1, col=0): yellow (red+green)\n",
    "        [255,   0, 255],  # pixel (row=1, col=1): magenta (red+blue)\n",
    "        [  0, 255, 255],  # pixel (row=1, col=2): cyan (green+blue)\n",
    "    ]\n",
    "], dtype=np.uint8)\n",
    "\n",
    "print(\"Shape:\", img_rgb.shape)\n",
    "print(\"Array:\\n\", img_rgb)"
   ]
  },
  {
   "cell_type": "code",
   "execution_count": 21,
   "id": "3ab94039-0a9b-49a5-8afe-2f6db24a224b",
   "metadata": {},
   "outputs": [
    {
     "data": {
      "image/png": "[encoded data removed]",
      "text/plain": [
       "<Figure size 640x480 with 1 Axes>"
      ]
     },
     "metadata": {},
     "output_type": "display_data"
    }
   ],
   "source": [
    "import matplotlib.pyplot as plt\n",
    "\n",
    "plt.imshow(img_rgb)\n",
    "plt.axis(\"off\")\n",
    "plt.show()"
   ]
  },
  {
   "cell_type": "code",
   "execution_count": 25,
   "id": "9fe2124e-5097-450a-a5b9-c5cf93c919ff",
   "metadata": {},
   "outputs": [],
   "source": [
    "row = df_with_features_3d.select(\"features_3d\").limit(1).collect()[0]\n",
    "features_3d_list = row[\"features_3d\"]"
   ]
  },
  {
   "cell_type": "code",
   "execution_count": 26,
   "id": "254c849f-e539-4638-8594-fa97111a3b53",
   "metadata": {},
   "outputs": [
    {
     "data": {
      "image/png": "[encoded data removed]",
      "text/plain": [
       "<Figure size 640x480 with 1 Axes>"
      ]
     },
     "metadata": {},
     "output_type": "display_data"
    }
   ],
   "source": [
    "img_rgb = np.array(features_3d_list, dtype=np.float32)\n",
    "img_rgb_uint8 = img_rgb.astype(np.uint8)\n",
    "\n",
    "plt.imshow(img_rgb)\n",
    "plt.axis(\"off\")  # Hide axis ticks\n",
    "plt.show()"
   ]
  },
  {
   "cell_type": "code",
   "execution_count": 29,
   "id": "865de66c-b1a2-4366-a7f5-5631289fe321",
   "metadata": {},
   "outputs": [
    {
     "data": {
      "image/png": "[encoded data removed]",
      "text/plain": [
       "<Figure size 640x480 with 1 Axes>"
      ]
     },
     "metadata": {},
     "output_type": "display_data"
    }
   ],
   "source": [
    "plt.imshow(img_rgb/255.0)\n",
    "plt.axis(\"off\")  # Hide axis ticks\n",
    "plt.show()"
   ]
  },
  {
   "cell_type": "code",
   "execution_count": 31,
   "id": "41b866ed-ab0b-4b77-8058-7cd6cbed63f5",
   "metadata": {},
   "outputs": [
    {
     "name": "stderr",
     "output_type": "stream",
     "text": [
      "                                                                                \r"
     ]
    }
   ],
   "source": [
    "df_with_features_3d.drop(col(\"image\")).write.mode(\"overwrite\").parquet(\"test/test_df_3d\")"
   ]
  },
  {
   "cell_type": "code",
   "execution_count": 32,
   "id": "f9feeb1c-0c62-4cc6-af49-21762732099a",
   "metadata": {},
   "outputs": [
    {
     "name": "stderr",
     "output_type": "stream",
     "text": [
      "                                                                                \r"
     ]
    },
    {
     "name": "stdout",
     "output_type": "stream",
     "text": [
      "Estimated row size: 68421.57 KB\n"
     ]
    }
   ],
   "source": [
    "# Collect a single row\n",
    "row = df_with_features_3d.limit(1).collect()[0]\n",
    "\n",
    "# Convert the row data to its approximate size\n",
    "def estimate_row_size(row):\n",
    "    total_size = 0\n",
    "\n",
    "    for column_name, value in row.asDict().items():\n",
    "        if isinstance(value, list):\n",
    "            # Recursively estimate size of lists\n",
    "            total_size += estimate_list_size(value)\n",
    "        elif isinstance(value, (str, int, float, bytes)):\n",
    "            # Add size of primitive types\n",
    "            total_size += sys.getsizeof(value)\n",
    "        elif value is None:\n",
    "            # Null values have negligible size\n",
    "            continue\n",
    "        else:\n",
    "            # Handle other unexpected types\n",
    "            total_size += sys.getsizeof(value)\n",
    "\n",
    "    return total_size\n",
    "\n",
    "def estimate_list_size(lst):\n",
    "    \"\"\"Recursively calculate size of a nested list.\"\"\"\n",
    "    total_size = sys.getsizeof(lst)  # Base size of the list object\n",
    "    for item in lst:\n",
    "        if isinstance(item, list):\n",
    "            total_size += estimate_list_size(item)  # Recursively handle nested lists\n",
    "        elif isinstance(item, (str, int, float, bytes)):\n",
    "            total_size += sys.getsizeof(item)\n",
    "        elif isinstance(item, np.ndarray):\n",
    "            total_size += item.nbytes  # Size of NumPy arrays\n",
    "        else:\n",
    "            total_size += sys.getsizeof(item)\n",
    "    return total_size\n",
    "\n",
    "# Estimate size of the row\n",
    "row_size_in_bytes = estimate_row_size(row)\n",
    "\n",
    "print(f\"Estimated row size: {row_size_in_bytes / 1024:.2f} KB\")"
   ]
  },
  {
   "cell_type": "code",
   "execution_count": null,
   "id": "edbd2dd8-6365-4348-9828-af0545afa719",
   "metadata": {},
   "outputs": [],
   "source": [
    "from pyspark.sql.functions import input_file_name\n",
    "\n",
    "uuid_file_path_df = result_df.withColumn(\"file_path\", input_file_name()).select(\"uuid\", \"file_path\")\n",
    "uuid_file_path_df.show(5, truncate=False)"
   ]
  },
  {
   "cell_type": "markdown",
   "id": "45bb4cb8-9f30-4a69-bf6e-192ad18fc072",
   "metadata": {},
   "source": [
    "# Save Images"
   ]
  },
  {
   "cell_type": "markdown",
   "id": "31a1bc19-de24-4a69-9a4c-3360a94a1c7a",
   "metadata": {},
   "source": [
    "This section demonstrates how to:\n",
    "\n",
    "- Collect a subset of image data from a Spark DataFrame.\n",
    "- Write batch images to disk, either sequentially or in parallel across multiple partitions.\n",
    "- Optimize processing by repartitioning data for distributed execution and handling large datasets efficiently.\n",
    "\n",
    "We use the following:\n",
    "\n",
    "`save_images_partition`: A function that processes a spark data partition and iteratively writes images to disk.\n",
    "\n",
    "`result_df`: A Spark DataFrame containing all images from museum specimens, with 9,490,931 rows.\n",
    "\n",
    "`sample_df`: A smaller Spark DataFrame subset of result_df, containing 947 rows (674.93 MB)."
   ]
  },
  {
   "cell_type": "code",
   "execution_count": 18,
   "id": "7a10e987-7d35-4f52-9a51-97bebcb40381",
   "metadata": {},
   "outputs": [],
   "source": [
    "import os\n",
    "import io\n",
    "import tarfile\n",
    "import shutil\n",
    "\n",
    "import numpy as np\n",
    "from PIL import Image\n",
    "from tqdm import tqdm\n",
    "\n",
    "from pyspark.sql import SparkSession\n",
    "from pyspark.sql import functions as F\n",
    "from pyspark.sql import types as T\n",
    "from pyspark.sql.functions import col\n",
    "\n",
    "spark= SparkSession.getActiveSession()"
   ]
  },
  {
   "cell_type": "code",
   "execution_count": null,
   "id": "18973e08-8492-48dc-9f1f-8769ab203163",
   "metadata": {},
   "outputs": [
    {
     "name": "stderr",
     "output_type": "stream",
     "text": [
      "                                                                                \r"
     ]
    }
   ],
   "source": [
    "sample_df = spark.read.parquet(f\"{BASE_PATH}/gbif/image_lookup/multi_images_museum_specimen/group_id=0/part-00000-424c8415-fd13-41a6-8e35-6d99af3c9f79-c000.snappy.parquet\")"
   ]
  },
  {
   "cell_type": "code",
   "execution_count": null,
   "id": "ab8a7a99-6850-4d58-942e-1acbae8ead35",
   "metadata": {},
   "outputs": [
    {
     "name": "stderr",
     "output_type": "stream",
     "text": [
      "                                                                                \r"
     ]
    }
   ],
   "source": [
    "result_df = spark.read.parquet(f\"{BASE_PATH}/gbif/image_lookup/multi_images_museum_specimen\")"
   ]
  },
  {
   "cell_type": "code",
   "execution_count": 4,
   "id": "cc522082-24d1-4c52-b904-db4d80a47e7a",
   "metadata": {},
   "outputs": [],
   "source": [
    "def decode_image_to_pil(row_data):\n",
    "    \"\"\"\n",
    "    Decode binary image data from a DataFrame row and convert it to a PIL Image.\n",
    "\n",
    "    Parameters:\n",
    "    - row_data: pyspark.sql.Row\n",
    "        A row containing `image`, `original_size`, and `resized_size` fields.\n",
    "\n",
    "    Returns:\n",
    "    - pil_image: PIL.Image.Image\n",
    "        The decoded and converted PIL Image.\n",
    "    \"\"\"\n",
    "    image_bytes = row_data[\"image\"]\n",
    "\n",
    "    try:\n",
    "        # Try using the original size\n",
    "        original_height, original_width = row_data[\"original_size\"]\n",
    "        img_array = np.frombuffer(image_bytes, dtype=np.uint8).reshape((original_height, original_width, 3))\n",
    "    except Exception:\n",
    "        # Fallback to resized size if original size is unavailable or invalid\n",
    "        resized_height, resized_width = row_data[\"resized_size\"]\n",
    "        img_array = np.frombuffer(image_bytes, dtype=np.uint8).reshape((resized_height, resized_width, 3))\n",
    "\n",
    "    # Convert BGR to RGB\n",
    "    image = img_array[..., ::-1]\n",
    "\n",
    "    # Convert NumPy array to PIL Image\n",
    "    pil_image = Image.fromarray(image, mode=\"RGB\")\n",
    "\n",
    "    return pil_image"
   ]
  },
  {
   "cell_type": "code",
   "execution_count": 5,
   "id": "5bee523d-0dbb-4e72-93e0-efc9b52bb1f1",
   "metadata": {},
   "outputs": [],
   "source": [
    "def compress_dir(dir_path, tar_file_path, compress=True):\n",
    "    \"\"\"\n",
    "    Replace a folder with its TAR or TAR.GZ file.\n",
    "\n",
    "    Parameters:\n",
    "    - dir_path (str): Path to the folder to archive and delete.\n",
    "    - tar_file_path (str): Path for the resulting TAR file (without .tar/.tar.gz extension).\n",
    "    - compress (bool): Whether to compress the archive with Gzip (default True).\n",
    "    \"\"\"\n",
    "    mode = \"w:gz\" if compress else \"w\"  # Compression mode\n",
    "    extension = \".tar.gz\" if compress else \".tar\"\n",
    "    tar_file_path += extension  # Add appropriate extension\n",
    "\n",
    "    try:\n",
    "        # Step 1: Create the TAR archive\n",
    "        with tarfile.open(tar_file_path, mode) as tar:\n",
    "            tar.add(dir_path, arcname=os.path.basename(dir_path))\n",
    "        print(f\"Successfully created TAR file: {tar_file_path}\")\n",
    "\n",
    "        # Step 2: Verify the TAR file creation\n",
    "        if os.path.exists(tar_file_path):\n",
    "            # Step 3: Delete the original folder\n",
    "            shutil.rmtree(dir_path)\n",
    "            print(f\"Original folder '{dir_path}' deleted after archiving.\")\n",
    "        else:\n",
    "            print(f\"Error: TAR file not created. Folder '{dir_path}' was not deleted.\")\n",
    "    except Exception as e:\n",
    "        print(f\"Error during archiving or deletion: {e}\")\n",
    "\n"
   ]
  },
  {
   "cell_type": "code",
   "execution_count": 6,
   "id": "d2639077-3de7-4515-b79f-0c69d9d3e47d",
   "metadata": {},
   "outputs": [],
   "source": [
    "def save_images_partition(rows, output_dir, compress = False):\n",
    "    \"\"\"\n",
    "    Save images from a list of rows to the specified output directory.\n",
    "\n",
    "    Parameters:\n",
    "    - rows: iterable\n",
    "        List of pyspark.sql.Row objects containing `image`, `original_size`, `resized_size`, and `uuid` fields.\n",
    "    - output_dir: str\n",
    "        The directory where images will be saved.\n",
    "    \"\"\"\n",
    "    rows = list(rows)\n",
    "    print(f\"Processing {len(rows)} rows in partition by PID: {os.getpid()}\")\n",
    "\n",
    "    # Create the partition-specific directory\n",
    "    partition_output_dir = os.path.join(output_dir, f\"partition_{os.getpid()}\")\n",
    "    os.makedirs(partition_output_dir, exist_ok=True)\n",
    "    \n",
    "    # Wrap the rows in tqdm for progress tracking\n",
    "    for row in tqdm(rows, desc=f\"PID {os.getpid()} Progress\", unit=\"image\"):\n",
    "        try:\n",
    "            # Decode the image and get the UUID\n",
    "            pil_image = decode_image_to_pil(row)\n",
    "            uuid = row[\"uuid\"]\n",
    "            \n",
    "            # Define the output file path and save the image\n",
    "            output_path = os.path.join(partition_output_dir, f\"{uuid}.png\")\n",
    "            pil_image.save(output_path)\n",
    "            \n",
    "        except Exception as e:\n",
    "            print(f\"Error saving image for UUID {row['uuid']}: {e}\")\n",
    "    print(f\"Written {len(rows)} images to {partition_output_dir}\")\n",
    "\n",
    "    # Compresss folder into tar files\n",
    "    if compress:\n",
    "        print(f\"Compressing...\")        \n",
    "        compress_dir(\n",
    "            dir_path = partition_output_dir,\n",
    "            tar_file_path = output_dir,\n",
    "            compress = True\n",
    "        )\n",
    "        print(f\"Images compressed into {output_dir}\")"
   ]
  },
  {
   "cell_type": "markdown",
   "id": "4f0ef568-15ff-4feb-94f3-747844589bd4",
   "metadata": {},
   "source": [
    "## Writing Images Sequentially from a Single Partition"
   ]
  },
  {
   "cell_type": "markdown",
   "id": "ba2559e2-dc82-4202-9ecd-fd3a9f92a86f",
   "metadata": {},
   "source": [
    "In this step:\n",
    "\n",
    "1. We collect 300 rows from `sample_df` into the **driver node** as a **single partition**.\n",
    "2. Use `save_images_partition` to write all the images to disk. Since the data is collected to the driver node, progress is visible in the Jupyter session.\n",
    "\n",
    "Since we are on the drivers node we can see the console progress output."
   ]
  },
  {
   "cell_type": "markdown",
   "id": "7d20fa7d-a12f-4450-9921-9131622721c8",
   "metadata": {},
   "source": [
    "**Code Example: Writing Without Compression**"
   ]
  },
  {
   "cell_type": "code",
   "execution_count": null,
   "id": "81643667-935b-442c-babb-ff60655f60ae",
   "metadata": {},
   "outputs": [],
   "source": [
    "output_dir = f\"{BASE_PATH}/gbif/image_lookup/test/single_partition\"\n",
    "# Remove output directory generated from previous executions\n",
    "shutil.rmtree(output_dir) if os.path.exists(output_dir) else None \n",
    "\n",
    "\n",
    "save_images_partition(sample_df.limit(300).collect(), output_dir, compress=False)"
   ]
  },
  {
   "cell_type": "markdown",
   "id": "9940f51f-ca3c-4d1d-8323-45d440a49b43",
   "metadata": {},
   "source": [
    "**Code Example: Writing With Compression**\n",
    "\n",
    "To address file count restrictions on the OSC storage system, compress the images into a single TAR file. \n",
    "\n",
    "The compressed TAR file can be downloaded and viewed locally in a file explorer."
   ]
  },
  {
   "cell_type": "code",
   "execution_count": null,
   "id": "ce1ee48a-833c-4192-afe5-24cd00a0fcd7",
   "metadata": {},
   "outputs": [],
   "source": [
    "shutil.rmtree(output_dir) if os.path.exists(output_dir) else None\n",
    "save_images_partition(sample_df.limit(300).collect(), output_dir, compress=True)"
   ]
  },
  {
   "cell_type": "markdown",
   "id": "1f3546b5-546b-4217-abc4-d9452fdda198",
   "metadata": {},
   "source": [
    "## Writing Images in Parallel Across Multiple Partitions"
   ]
  },
  {
   "cell_type": "markdown",
   "id": "a0ec6666-c4a9-4fe9-b41a-f2bbc7601ed7",
   "metadata": {},
   "source": [
    "Instead of collecting all data into the driver node, which is computationally expensive, we distribute the processing across worker nodes by:\n",
    "\n",
    "1. Repartitioning data into your workers/executors.\n",
    "2. Writing images for each partition in parallel."
   ]
  },
  {
   "cell_type": "markdown",
   "id": "97e02175-32a6-4408-b2bc-685517e86354",
   "metadata": {},
   "source": [
    "Here, we limit the dataset to 900 rows and repartition it into 3 partitions, ensuring each partition contains 300 images."
   ]
  },
  {
   "cell_type": "markdown",
   "id": "74348b29-826a-4700-a502-bd4ca37eb3bf",
   "metadata": {},
   "source": [
    "**Code Example: Writing Without Compression**"
   ]
  },
  {
   "cell_type": "code",
   "execution_count": null,
   "id": "d64ef6cc-ca44-4f82-ae58-9561544b4f67",
   "metadata": {},
   "outputs": [
    {
     "name": "stderr",
     "output_type": "stream",
     "text": [
      "                                                                                \r"
     ]
    }
   ],
   "source": [
    "output_dir = f\"{BASE_PATH}/gbif/image_lookup/test/multiple_partitions\"\n",
    "shutil.rmtree(output_dir) if os.path.exists(output_dir) else None\n",
    "\n",
    "sample_df.limit(900).repartition(3).foreachPartition(lambda partition: save_images_partition(partition, output_dir, compress=False))"
   ]
  },
  {
   "cell_type": "markdown",
   "id": "f25a431b-f225-4947-a9b0-b6d33151643e",
   "metadata": {},
   "source": [
    "**Code Example: Writing With Compression**"
   ]
  },
  {
   "cell_type": "code",
   "execution_count": null,
   "id": "31e2f788-be96-473e-a3f4-5d606e5b290f",
   "metadata": {},
   "outputs": [
    {
     "name": "stderr",
     "output_type": "stream",
     "text": [
      "                                                                                \r"
     ]
    }
   ],
   "source": [
    "output_dir = f\"{BASE_PATH}/gbif/image_lookup/test/multiple_partitions\"\n",
    "shutil.rmtree(output_dir) if os.path.exists(output_dir) else None\n",
    "\n",
    "sample_df.limit(900).repartition(3).foreachPartition(lambda partition: save_images_partition(partition, output_dir, compress=True))"
   ]
  },
  {
   "cell_type": "markdown",
   "id": "20be7b9f-2a71-4bdd-b644-044b53bdd04c",
   "metadata": {},
   "source": [
    "## Filtering Subsets and Write in Parallel"
   ]
  },
  {
   "cell_type": "markdown",
   "id": "35e44c74-48b7-492f-93c8-dc3bb8cbf1de",
   "metadata": {},
   "source": [
    "You can also create subset from the data using Spark's DataFrame API or SQL interface. \n",
    "\n",
    "Check the row count, and then repartition the data into moderate sizes, and then write to disk in parallel. \n",
    "\n",
    "For example, filter rows where `basisOfRecord` is `MATERIAL_CITATION`."
   ]
  },
  {
   "cell_type": "code",
   "execution_count": 19,
   "id": "84acdef7-bef7-4200-a367-70ffdee780b7",
   "metadata": {},
   "outputs": [
    {
     "name": "stderr",
     "output_type": "stream",
     "text": [
      "                                                                                \r"
     ]
    },
    {
     "data": {
      "text/plain": [
       "1395"
      ]
     },
     "execution_count": 19,
     "metadata": {},
     "output_type": "execute_result"
    }
   ],
   "source": [
    "subset_df = (\n",
    "    result_df\n",
    "    .filter(col(\"basisOfRecord\") == \"MATERIAL_CITATION\")\n",
    ")\n",
    "subset_df.count()"
   ]
  },
  {
   "cell_type": "markdown",
   "id": "cacf50b6-70c1-438a-88a7-baebc0611838",
   "metadata": {},
   "source": [
    "Each workers are allocated with limited memory during the Spark initlization, therefore we want to limit the partition size to avoid out-of-memory error. My current spark session workers could easily handle 300 images writing tasks. \n",
    "\n",
    "So I'll repartition this subset into 5 partitions such that each workers will write approximately 220 images in one tar file."
   ]
  },
  {
   "cell_type": "code",
   "execution_count": null,
   "id": "b7c4d8c7-07ae-4d38-87f2-9781f0482aa6",
   "metadata": {},
   "outputs": [
    {
     "name": "stderr",
     "output_type": "stream",
     "text": [
      "[Stage 34:==================================>                       (3 + 2) / 5]\r"
     ]
    },
    {
     "name": "stdout",
     "output_type": "stream",
     "text": [
      "CPU times: user 137 ms, sys: 29 ms, total: 166 ms\n",
      "Wall time: 1min 25s\n"
     ]
    },
    {
     "name": "stderr",
     "output_type": "stream",
     "text": [
      "                                                                                \r"
     ]
    }
   ],
   "source": [
    "%%time\n",
    "output_dir = f\"{BASE_PATH}/gbif/image_lookup/test/materal_citation\"\n",
    "shutil.rmtree(output_dir) if os.path.exists(output_dir) else None\n",
    "\n",
    "subset_df.repartition(5).foreachPartition(lambda partition: save_images_partition(partition, output_dir, compress = True))"
   ]
  }
 ],
 "metadata": {
  "jupytext": {
   "formats": "ipynb,py:percent"
  },
  "kernelspec": {
   "display_name": "PySpark",
   "language": "python",
   "name": "pyspark"
  },
  "language_info": {
   "codemirror_mode": {
    "name": "ipython",
    "version": 3
   },
   "file_extension": ".py",
   "mimetype": "text/x-python",
   "name": "python",
   "nbconvert_exporter": "python",
   "pygments_lexer": "ipython3",
   "version": "3.12.4"
  }
 },
 "nbformat": 4,
 "nbformat_minor": 5
}
